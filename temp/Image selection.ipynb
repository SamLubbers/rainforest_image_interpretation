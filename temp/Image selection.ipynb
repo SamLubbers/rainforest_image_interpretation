{
 "cells": [
  {
   "cell_type": "code",
   "execution_count": null,
   "metadata": {},
   "outputs": [],
   "source": [
    "import os\n",
    "import pandas as pd\n",
    "from skimage import io\n",
    "from spectral import imshow\n",
    "\n",
    "import sys\n",
    "sys.path.append(\"../\")\n",
    "from config import DATASETS_PATH"
   ]
  },
  {
   "cell_type": "code",
   "execution_count": null,
   "metadata": {},
   "outputs": [],
   "source": [
    "IMGS_PATH = os.path.join(DATASETS_PATH, 'train')\n",
    "\n",
    "def show_tif_img(file_name, imgs_path=IMGS_PATH):\n",
    "    path = os.path.join(imgs_path, file_name)\n",
    "    img = io.imread(path)\n",
    "    bgr = img[:,:,:3]\n",
    "    rgb = bgr[:, :, [2,1,0]]\n",
    "    imshow(rgb)"
   ]
  },
  {
   "cell_type": "code",
   "execution_count": null,
   "metadata": {},
   "outputs": [],
   "source": [
    "p = os.path.join(DATASETS_PATH, 'indicator_labels.csv')\n",
    "df_labels = pd.read_csv(p)"
   ]
  },
  {
   "cell_type": "code",
   "execution_count": null,
   "metadata": {},
   "outputs": [],
   "source": [
    "df_labels.head()"
   ]
  },
  {
   "cell_type": "code",
   "execution_count": null,
   "metadata": {},
   "outputs": [],
   "source": [
    "for i in range(80, 90):\n",
    "    labels = df_labels.loc[(df_labels['haze'] == 1) & (df_labels['agriculture'] == 1)]\n",
    "    tgs = labels['tags'].iloc[i]\n",
    "    im = labels['image_name'].iloc[i]\n",
    "    print(f'{im} | {tgs}')\n",
    "    show_tif_img(f'{im}.tif')"
   ]
  }
 ],
 "metadata": {
  "kernelspec": {
   "display_name": "vision",
   "language": "python",
   "name": "vision"
  },
  "language_info": {
   "codemirror_mode": {
    "name": "ipython",
    "version": 3
   },
   "file_extension": ".py",
   "mimetype": "text/x-python",
   "name": "python",
   "nbconvert_exporter": "python",
   "pygments_lexer": "ipython3",
   "version": "3.7.2"
  }
 },
 "nbformat": 4,
 "nbformat_minor": 2
}
