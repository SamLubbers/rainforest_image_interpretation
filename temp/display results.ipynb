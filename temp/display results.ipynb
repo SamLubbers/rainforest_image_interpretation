{
 "cells": [
  {
   "cell_type": "code",
   "execution_count": 5,
   "metadata": {},
   "outputs": [],
   "source": [
    "import os\n",
    "import json"
   ]
  },
  {
   "cell_type": "code",
   "execution_count": 1,
   "metadata": {},
   "outputs": [],
   "source": [
    "import sys\n",
    "sys.path.append(\"../\")\n",
    "from config import RESULTS_PATH"
   ]
  },
  {
   "cell_type": "code",
   "execution_count": 7,
   "metadata": {},
   "outputs": [],
   "source": [
    "result_files = os.listdir(RESULTS_PATH)"
   ]
  },
  {
   "cell_type": "code",
   "execution_count": 8,
   "metadata": {},
   "outputs": [],
   "source": [
    "results = {}\n",
    "for file_name in result_files:\n",
    "    result_id = file_name.split('.')[0]\n",
    "    with open(os.path.join(RESULTS_PATH, file_name)) as f:\n",
    "        data = json.load(f)\n",
    "        results[result_id] = data"
   ]
  },
  {
   "cell_type": "code",
   "execution_count": 10,
   "metadata": {},
   "outputs": [
    {
     "data": {
      "text/plain": [
       "{'mean_f2': 0.7310770256938546,\n",
       " 'per_class_f2': {'primary': 0.9857105401153645,\n",
       "  'clear': 0.9192205310217733,\n",
       "  'agriculture': 0.6170780520346898,\n",
       "  'road': 0.43667829353367316,\n",
       "  'water': 0.04061671087533157,\n",
       "  'partly_cloudy': 0.5618977020014826,\n",
       "  'cultivation': 0.0013732491073880802,\n",
       "  'habitation': 0.03536977491961415,\n",
       "  'haze': 0.0,\n",
       "  'cloudy': 0.11811023622047243,\n",
       "  'bare_ground': 0.0,\n",
       "  'selective_logging': 0.0,\n",
       "  'artisinal_mine': 0.0,\n",
       "  'blooming': 0.0,\n",
       "  'slash_burn': 0.0,\n",
       "  'conventional_mine': 0.0,\n",
       "  'blow_down': 0.0},\n",
       " 'time_feature_extraction': 2172.6306841373444,\n",
       " 'time_training': 171.4815390110016}"
      ]
     },
     "execution_count": 10,
     "metadata": {},
     "output_type": "execute_result"
    }
   ],
   "source": [
    "results['brisk_20_1']"
   ]
  },
  {
   "cell_type": "code",
   "execution_count": null,
   "metadata": {},
   "outputs": [],
   "source": [
    "# function to obtain df of interest\n",
    "# 3 args: results dict, list of ids to extract, name of value to obtain. It should return df with ids as headers rest as values.\n",
    "# find dict to pd to determine format of dict function"
   ]
  }
 ],
 "metadata": {
  "kernelspec": {
   "display_name": "vision",
   "language": "python",
   "name": "vision"
  },
  "language_info": {
   "codemirror_mode": {
    "name": "ipython",
    "version": 3
   },
   "file_extension": ".py",
   "mimetype": "text/x-python",
   "name": "python",
   "nbconvert_exporter": "python",
   "pygments_lexer": "ipython3",
   "version": "3.7.2"
  }
 },
 "nbformat": 4,
 "nbformat_minor": 2
}
