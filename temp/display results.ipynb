{
 "cells": [
  {
   "cell_type": "code",
   "execution_count": 1,
   "metadata": {},
   "outputs": [],
   "source": [
    "import os\n",
    "import re\n",
    "import json\n",
    "import pandas as pd"
   ]
  },
  {
   "cell_type": "code",
   "execution_count": 2,
   "metadata": {},
   "outputs": [],
   "source": [
    "import sys\n",
    "sys.path.append(\"../\")\n",
    "from config import RESULTS_PATH"
   ]
  },
  {
   "cell_type": "code",
   "execution_count": 3,
   "metadata": {},
   "outputs": [],
   "source": [
    "result_files = os.listdir(RESULTS_PATH)"
   ]
  },
  {
   "cell_type": "code",
   "execution_count": 4,
   "metadata": {},
   "outputs": [],
   "source": [
    "results = {}\n",
    "for file_name in result_files:\n",
    "    result_id = file_name.split('.')[0]\n",
    "    with open(os.path.join(RESULTS_PATH, file_name)) as f:\n",
    "        data = json.load(f)\n",
    "        results[result_id] = data"
   ]
  },
  {
   "cell_type": "code",
   "execution_count": 5,
   "metadata": {},
   "outputs": [
    {
     "data": {
      "text/plain": [
       "['brisk_20_1.json',\n",
       " 'brisk_20_3.json',\n",
       " 'brisk_25_1.json',\n",
       " 'brisk_30_1.json',\n",
       " 'brisk_30_3.json',\n",
       " 'brisk_30_5.json',\n",
       " 'channels.json',\n",
       " 'channels_bgr.json',\n",
       " 'freak_20.json',\n",
       " 'freak_25_bovw_10.json',\n",
       " 'freak_25_bovw_100.json',\n",
       " 'freak_25_bovw_25.json',\n",
       " 'freak_25_bovw_250.json',\n",
       " 'freak_25_bovw_50.json',\n",
       " 'gch_hsv.json',\n",
       " 'gch_lab.json',\n",
       " 'gch_rgb.json',\n",
       " 'glcm_gray.json',\n",
       " 'glcm_nir.json',\n",
       " 'lbp_1.json',\n",
       " 'lbp_123.json',\n",
       " 'lbp_2.json',\n",
       " 'lbp_3.json',\n",
       " 'spectral.json',\n",
       " 'spectral_glcm_gray.json',\n",
       " 'spectral_glcm_nir.json',\n",
       " 'spectral_lbp_1.json',\n",
       " 'spectral_lbp_2.json',\n",
       " 'spectral_lbp_3.json']"
      ]
     },
     "execution_count": 5,
     "metadata": {},
     "output_type": "execute_result"
    }
   ],
   "source": [
    "result_files"
   ]
  },
  {
   "cell_type": "code",
   "execution_count": 7,
   "metadata": {},
   "outputs": [
    {
     "name": "stdout",
     "output_type": "stream",
     "text": [
      "\\begin{table}[h]\n",
      "\\centering\n",
      "\\begin{tabular}{| c | c | c | c | c | c |}\n",
      "\\hline\n",
      "{} &  freak\\_25\\_bovw\\_10 &  freak\\_25\\_bovw\\_25 &  freak\\_25\\_bovw\\_50 &  freak\\_25\\_bovw\\_100 &  freak\\_25\\_bovw\\_250 \\\\\n",
      "\\hline\n",
      "mean\\_f2                 &             0.749 &             0.751 &             0.748 &              0.746 &              0.742 \\\\\n",
      "time\\_feature\\_extraction &           453.909 &           535.363 &           607.694 &            828.954 &          1,353.107 \\\\\n",
      "\\hline\n",
      "\\end{tabular}\n",
      "\\caption{}\n",
      "\\label{table:}\n",
      "\\end{table}\n"
     ]
    }
   ],
   "source": [
    "features = ['freak_25_bovw_10', 'freak_25_bovw_25', 'freak_25_bovw_50', 'freak_25_bovw_100', 'freak_25_bovw_250']\n",
    "values = ['mean_f2', 'time_feature_extraction']\n",
    "r = {}\n",
    "for v in values:\n",
    "    r[v] = []\n",
    "    for f in features:\n",
    "        r[v].append(results[f][v])        \n",
    "\n",
    "df = pd.DataFrame.from_dict(r, orient='index', columns=features)\n",
    "\n",
    "col_format = '| c |'\n",
    "for _ in features:\n",
    "    col_format += ' c |'\n",
    "latex = df.to_latex(float_format='{:,.3f}'.format, column_format=col_format)\n",
    "\n",
    "latex = latex.replace('\\\\toprule', '\\hline')\n",
    "latex = latex.replace('\\\\midrule', '\\hline')\n",
    "latex = latex.replace('\\\\bottomrule', '\\hline')\n",
    "latex = '\\\\begin{table}[h]\\n\\centering\\n' + latex + '\\caption{}\\n\\label{table:}\\n\\end{table}'\n",
    "print(latex)"
   ]
  }
 ],
 "metadata": {
  "kernelspec": {
   "display_name": "vision",
   "language": "python",
   "name": "vision"
  },
  "language_info": {
   "codemirror_mode": {
    "name": "ipython",
    "version": 3
   },
   "file_extension": ".py",
   "mimetype": "text/x-python",
   "name": "python",
   "nbconvert_exporter": "python",
   "pygments_lexer": "ipython3",
   "version": "3.7.2"
  }
 },
 "nbformat": 4,
 "nbformat_minor": 2
}
