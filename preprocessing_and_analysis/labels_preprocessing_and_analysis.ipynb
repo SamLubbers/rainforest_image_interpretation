{
 "cells": [
  {
   "cell_type": "code",
   "execution_count": null,
   "metadata": {},
   "outputs": [],
   "source": [
    "import os\n",
    "import numpy as np\n",
    "import pandas as pd\n",
    "import matplotlib.pyplot as plt\n",
    "import seaborn as sns\n",
    "sns.set()\n",
    "%matplotlib inline"
   ]
  },
  {
   "cell_type": "code",
   "execution_count": null,
   "metadata": {},
   "outputs": [],
   "source": [
    "import sys\n",
    "sys.path.append(\"../\")\n",
    "from config import DATASETS_PATH, ASSETS_PATH, COLOURS"
   ]
  },
  {
   "cell_type": "code",
   "execution_count": null,
   "metadata": {},
   "outputs": [],
   "source": [
    "MY_ASSETS_PATH = os.path.join(ASSETS_PATH, 'data_exploration_and_analysis')\n",
    "LABELS_PATH = os.path.join(DATASETS_PATH, 'raw_train_validation_labels.csv')\n",
    "labels_df = pd.read_csv(LABELS_PATH)"
   ]
  },
  {
   "cell_type": "code",
   "execution_count": null,
   "metadata": {},
   "outputs": [],
   "source": [
    "labels_df.head() # view format"
   ]
  },
  {
   "cell_type": "markdown",
   "metadata": {},
   "source": [
    "### Identify and fix errors"
   ]
  },
  {
   "cell_type": "code",
   "execution_count": null,
   "metadata": {},
   "outputs": [],
   "source": [
    "# first replace all empty string with NaN\n",
    "labels_df = labels_df.replace(r'^\\s*$', np.nan, regex=True)"
   ]
  },
  {
   "cell_type": "code",
   "execution_count": null,
   "metadata": {},
   "outputs": [],
   "source": [
    "# test number of non-empty image names matches number of training images\n",
    "TRAIN_IMGS_PATH = os.path.join(DATASETS_PATH, 'train')\n",
    "VALIDATION_IMGS_PATH = os.path.join(DATASETS_PATH, 'validation')\n",
    "n_images = len(os.listdir(TRAIN_IMGS_PATH)) + len(os.listdir(VALIDATION_IMGS_PATH))\n",
    "n_image_names = pd.notnull(labels_df[\"image_name\"]).sum()\n",
    "assert n_images == n_image_names"
   ]
  },
  {
   "cell_type": "code",
   "execution_count": null,
   "metadata": {},
   "outputs": [],
   "source": [
    "# test whether an image is labelled twice\n",
    "n_duplicated = labels_df[\"image_name\"].duplicated().sum()\n",
    "assert n_duplicated == 0"
   ]
  },
  {
   "cell_type": "code",
   "execution_count": null,
   "metadata": {},
   "outputs": [],
   "source": [
    "# check if any image does not have assigned labels\n",
    "n_empty = pd.isnull(labels_df[\"tags\"]).sum()\n",
    "assert n_empty == 0"
   ]
  },
  {
   "cell_type": "markdown",
   "metadata": {},
   "source": [
    "### Labels"
   ]
  },
  {
   "cell_type": "code",
   "execution_count": null,
   "metadata": {},
   "outputs": [],
   "source": [
    "from sklearn.feature_extraction.text import CountVectorizer\n",
    "vectorizer = CountVectorizer()"
   ]
  },
  {
   "cell_type": "code",
   "execution_count": null,
   "metadata": {},
   "outputs": [],
   "source": [
    "# labels in the dataset\n",
    "vectorizer.fit(labels_df['tags'].to_list())\n",
    "labels = vectorizer.get_feature_names()\n",
    "print(labels)"
   ]
  },
  {
   "cell_type": "markdown",
   "metadata": {},
   "source": [
    "### Reformat dataset\n",
    "replace single column of tags to multiple columns with indicator variables for each tag (label)"
   ]
  },
  {
   "cell_type": "code",
   "execution_count": null,
   "metadata": {},
   "outputs": [],
   "source": [
    "# first remove any possible duplicates\n",
    "def remove_string_duplicates(s):\n",
    "    return ' '.join((set(s.split())))\n",
    "\n",
    "labels_df['tags'] = labels_df['tags'].apply(remove_string_duplicates)"
   ]
  },
  {
   "cell_type": "code",
   "execution_count": null,
   "metadata": {},
   "outputs": [],
   "source": [
    "indicator_values = vectorizer.transform(labels_df['tags'])\n",
    "indicator_df = pd.DataFrame(data=indicator_values.todense(), columns=labels)\n",
    "indicator_df = pd.concat([labels_df, indicator_df], axis=\"columns\")"
   ]
  },
  {
   "cell_type": "code",
   "execution_count": null,
   "metadata": {},
   "outputs": [],
   "source": [
    "indicator_df.head()"
   ]
  },
  {
   "cell_type": "markdown",
   "metadata": {},
   "source": [
    "### Label distribution"
   ]
  },
  {
   "cell_type": "code",
   "execution_count": null,
   "metadata": {},
   "outputs": [],
   "source": [
    "label_count = indicator_df[labels].sum(axis = 0)\n",
    "label_count.sort_values(ascending=False, inplace=True)\n",
    "sorted_labels = label_count.index.tolist()"
   ]
  },
  {
   "cell_type": "code",
   "execution_count": null,
   "metadata": {},
   "outputs": [],
   "source": [
    "fig_label_distribution = plt.figure(figsize=(20, 12))\n",
    "plt.bar(sorted_labels, label_count, color=COLOURS['blue'])\n",
    "plt.xticks(rotation=45)\n",
    "plt.xlabel('Labels')\n",
    "plt.ylabel('Frequency')"
   ]
  },
  {
   "cell_type": "code",
   "execution_count": null,
   "metadata": {},
   "outputs": [],
   "source": [
    "label_distribution_path = os.path.join(MY_ASSETS_PATH, 'label_distribution.png')\n",
    "fig_label_distribution.savefig(label_distribution_path, dpi=300)"
   ]
  },
  {
   "cell_type": "markdown",
   "metadata": {},
   "source": [
    "identify percentage of common and rare labels"
   ]
  },
  {
   "cell_type": "code",
   "execution_count": null,
   "metadata": {},
   "outputs": [],
   "source": [
    "common_labels = ['agriculture', 'road', 'water', 'cultivation', 'habitation', 'bare_ground']\n",
    "rare_labels = ['selective_logging', 'artisinal_mine', 'blooming', 'slash_burn', 'blow_down', 'conventional_mine']\n",
    "\n",
    "def count_proportion_with_label(indicator_df, labels):\n",
    "    total = len(indicator_df.index)\n",
    "    with_label = (indicator_df[labels].sum(axis=1) > 0).sum()\n",
    "    return round(with_label / total * 100, 2)"
   ]
  },
  {
   "cell_type": "code",
   "execution_count": null,
   "metadata": {},
   "outputs": [],
   "source": [
    "percent_common_labels = count_proportion_with_label(indicator_vals_df, common_labels)\n",
    "print(f'{percent_common_labels} percent of the dataset has one of the following labels: {\", \".join(common_labels)}')\n",
    "      \n",
    "percent_rare_labels = count_proportion_with_label(indicator_vals_df, rare_labels)\n",
    "print(f'{percent_rare_labels} percent of the dataset has one of the following labels: {\", \".join(rare_labels)}')"
   ]
  },
  {
   "cell_type": "markdown",
   "metadata": {},
   "source": [
    "output sorted indicator labels df to csv for future use"
   ]
  },
  {
   "cell_type": "code",
   "execution_count": null,
   "metadata": {},
   "outputs": [],
   "source": [
    "#sort df\n",
    "sorted_columns = ['image_name', 'tags'] + sorted_labels\n",
    "df_indicator_sorted = indicator_df[sorted_columns]"
   ]
  },
  {
   "cell_type": "code",
   "execution_count": null,
   "metadata": {},
   "outputs": [],
   "source": [
    "#export\n",
    "indicator_labels_path = os.path.join(DATASETS_PATH, 'train_validation_labels.csv')\n",
    "df_indicator_sorted.to_csv(indicator_labels_path, index=False)"
   ]
  },
  {
   "cell_type": "markdown",
   "metadata": {},
   "source": [
    "### Label realtions"
   ]
  },
  {
   "cell_type": "code",
   "execution_count": null,
   "metadata": {},
   "outputs": [],
   "source": [
    "indicator_vals_df = indicator_df[sorted_labels]\n",
    "label_coocurrance = indicator_vals_df.T.dot(indicator_vals_df)"
   ]
  },
  {
   "cell_type": "code",
   "execution_count": null,
   "metadata": {},
   "outputs": [],
   "source": [
    "label_coocurrance"
   ]
  },
  {
   "cell_type": "code",
   "execution_count": null,
   "metadata": {},
   "outputs": [],
   "source": [
    "blue_palette = sns.light_palette(COLOURS['blue'], 10)\n",
    "sns.set(rc={'figure.figsize':(16,12)})\n",
    "fig_coocurrance = sns.heatmap(label_coocurrance, cmap=blue_palette)"
   ]
  },
  {
   "cell_type": "code",
   "execution_count": null,
   "metadata": {},
   "outputs": [],
   "source": [
    "label_coocurrance_path = os.path.join(MY_ASSETS_PATH, 'label_coocurrance.png')\n",
    "fig_coocurrance.get_figure().savefig(label_coocurrance_path, dpi=300)"
   ]
  },
  {
   "cell_type": "markdown",
   "metadata": {},
   "source": [
    "Because the primary and clear labels are so dominant over the rest the regular co-ocurrance matrix does not provide us much information on the relation between the labels. We can expose more information by crating a new matrix which shows **what percentage of the label on the Y axis also has the label on the X axis**"
   ]
  },
  {
   "cell_type": "code",
   "execution_count": null,
   "metadata": {},
   "outputs": [],
   "source": [
    "label_relations = (label_coocurrance.T / label_count).T"
   ]
  },
  {
   "cell_type": "code",
   "execution_count": null,
   "metadata": {},
   "outputs": [],
   "source": [
    "fig_relations = sns.heatmap(label_relations, cmap=blue_palette)"
   ]
  },
  {
   "cell_type": "code",
   "execution_count": null,
   "metadata": {},
   "outputs": [],
   "source": [
    "label_relations_path = os.path.join(MY_ASSETS_PATH, 'label_relations.png')\n",
    "fig_relations.get_figure().savefig(label_relations_path, dpi=300)"
   ]
  }
 ],
 "metadata": {
  "kernelspec": {
   "display_name": "vision",
   "language": "python",
   "name": "vision"
  },
  "language_info": {
   "codemirror_mode": {
    "name": "ipython",
    "version": 3
   },
   "file_extension": ".py",
   "mimetype": "text/x-python",
   "name": "python",
   "nbconvert_exporter": "python",
   "pygments_lexer": "ipython3",
   "version": "3.7.2"
  }
 },
 "nbformat": 4,
 "nbformat_minor": 2
}
