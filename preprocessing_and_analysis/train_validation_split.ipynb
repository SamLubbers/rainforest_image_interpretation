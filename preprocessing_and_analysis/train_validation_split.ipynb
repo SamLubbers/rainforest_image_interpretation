{
 "cells": [
  {
   "cell_type": "markdown",
   "metadata": {},
   "source": [
    "Training data is split into training and validation set so that model can be evaluated without submitting test set predictions on Kaggle and using custom evaluation metrics"
   ]
  },
  {
   "cell_type": "code",
   "execution_count": 6,
   "metadata": {},
   "outputs": [],
   "source": [
    "from sklearn.model_selection import train_test_split\n",
    "import pandas as pd\n",
    "import os"
   ]
  },
  {
   "cell_type": "code",
   "execution_count": 59,
   "metadata": {},
   "outputs": [],
   "source": [
    "import sys\n",
    "sys.path.append(\"../\")\n",
    "from config import DATASETS_PATH"
   ]
  },
  {
   "cell_type": "code",
   "execution_count": 60,
   "metadata": {},
   "outputs": [],
   "source": [
    "csv_labels_path = os.path.join(DATASETS_PATH, 'indicator_labels.csv')\n",
    "df_labels = pd.read_csv(csv_labels_path)"
   ]
  },
  {
   "cell_type": "code",
   "execution_count": 61,
   "metadata": {},
   "outputs": [],
   "source": [
    "train_set, validation_set = train_test_split(df_labels, test_size=0.2, random_state=10)"
   ]
  },
  {
   "cell_type": "code",
   "execution_count": 40,
   "metadata": {},
   "outputs": [],
   "source": [
    "def calculate_distrbution(df):\n",
    "    n_instances = len(df)\n",
    "    label_count = df.iloc[:, 2:].sum()\n",
    "    return label_count / n_instances"
   ]
  },
  {
   "cell_type": "code",
   "execution_count": 41,
   "metadata": {},
   "outputs": [],
   "source": [
    "# test whether the labels are properly distributed\n",
    "original_distribution = calculate_distrbution(df_labels)\n",
    "train_distribution = calculate_distrbution(train_set)\n",
    "validation_distribution = calculate_distrbution(validation_set)"
   ]
  },
  {
   "cell_type": "code",
   "execution_count": 50,
   "metadata": {
    "scrolled": true
   },
   "outputs": [],
   "source": [
    "# %difference in label distribution between original and new training set\n",
    "diff_training = pd.concat([original_distribution,\n",
    "          train_distribution], axis = 1).T.pct_change().iloc[1, :]"
   ]
  },
  {
   "cell_type": "code",
   "execution_count": 51,
   "metadata": {},
   "outputs": [],
   "source": [
    "# %difference in label distribution between original training set and validation set\n",
    "diff_validation = pd.concat([original_distribution,\n",
    "          validation_distribution], axis = 1).T.pct_change().iloc[1, :]"
   ]
  },
  {
   "cell_type": "code",
   "execution_count": 54,
   "metadata": {},
   "outputs": [],
   "source": [
    "df_diff = pd.concat([original_distribution, diff_training, diff_validation], axis=1)\n",
    "df_diff.columns = ['original distribution', '% diff. training', '% diff. validation']"
   ]
  },
  {
   "cell_type": "code",
   "execution_count": 55,
   "metadata": {},
   "outputs": [
    {
     "data": {
      "text/html": [
       "<div>\n",
       "<style scoped>\n",
       "    .dataframe tbody tr th:only-of-type {\n",
       "        vertical-align: middle;\n",
       "    }\n",
       "\n",
       "    .dataframe tbody tr th {\n",
       "        vertical-align: top;\n",
       "    }\n",
       "\n",
       "    .dataframe thead th {\n",
       "        text-align: right;\n",
       "    }\n",
       "</style>\n",
       "<table border=\"1\" class=\"dataframe\">\n",
       "  <thead>\n",
       "    <tr style=\"text-align: right;\">\n",
       "      <th></th>\n",
       "      <th>original distribution</th>\n",
       "      <th>% diff. training</th>\n",
       "      <th>% diff. validation</th>\n",
       "    </tr>\n",
       "  </thead>\n",
       "  <tbody>\n",
       "    <tr>\n",
       "      <th>primary</th>\n",
       "      <td>0.926727</td>\n",
       "      <td>-0.000973</td>\n",
       "      <td>0.003894</td>\n",
       "    </tr>\n",
       "    <tr>\n",
       "      <th>clear</th>\n",
       "      <td>0.702364</td>\n",
       "      <td>-0.002227</td>\n",
       "      <td>0.008909</td>\n",
       "    </tr>\n",
       "    <tr>\n",
       "      <th>agriculture</th>\n",
       "      <td>0.304232</td>\n",
       "      <td>0.001529</td>\n",
       "      <td>-0.006115</td>\n",
       "    </tr>\n",
       "    <tr>\n",
       "      <th>road</th>\n",
       "      <td>0.199387</td>\n",
       "      <td>-0.003680</td>\n",
       "      <td>0.014719</td>\n",
       "    </tr>\n",
       "    <tr>\n",
       "      <th>water</th>\n",
       "      <td>0.183083</td>\n",
       "      <td>-0.001478</td>\n",
       "      <td>0.005912</td>\n",
       "    </tr>\n",
       "    <tr>\n",
       "      <th>partly_cloudy</th>\n",
       "      <td>0.179377</td>\n",
       "      <td>0.001762</td>\n",
       "      <td>-0.007048</td>\n",
       "    </tr>\n",
       "    <tr>\n",
       "      <th>cultivation</th>\n",
       "      <td>0.110601</td>\n",
       "      <td>-0.004070</td>\n",
       "      <td>0.016280</td>\n",
       "    </tr>\n",
       "    <tr>\n",
       "      <th>habitation</th>\n",
       "      <td>0.090417</td>\n",
       "      <td>-0.013314</td>\n",
       "      <td>0.053253</td>\n",
       "    </tr>\n",
       "    <tr>\n",
       "      <th>haze</th>\n",
       "      <td>0.066627</td>\n",
       "      <td>0.010852</td>\n",
       "      <td>-0.043405</td>\n",
       "    </tr>\n",
       "    <tr>\n",
       "      <th>cloudy</th>\n",
       "      <td>0.051607</td>\n",
       "      <td>0.010059</td>\n",
       "      <td>-0.040234</td>\n",
       "    </tr>\n",
       "    <tr>\n",
       "      <th>bare_ground</th>\n",
       "      <td>0.021295</td>\n",
       "      <td>-0.011015</td>\n",
       "      <td>0.044058</td>\n",
       "    </tr>\n",
       "    <tr>\n",
       "      <th>selective_logging</th>\n",
       "      <td>0.008399</td>\n",
       "      <td>0.003683</td>\n",
       "      <td>-0.014730</td>\n",
       "    </tr>\n",
       "    <tr>\n",
       "      <th>artisinal_mine</th>\n",
       "      <td>0.008375</td>\n",
       "      <td>0.006643</td>\n",
       "      <td>-0.026573</td>\n",
       "    </tr>\n",
       "    <tr>\n",
       "      <th>blooming</th>\n",
       "      <td>0.008202</td>\n",
       "      <td>0.016573</td>\n",
       "      <td>-0.066288</td>\n",
       "    </tr>\n",
       "    <tr>\n",
       "      <th>slash_burn</th>\n",
       "      <td>0.005163</td>\n",
       "      <td>-0.031094</td>\n",
       "      <td>0.124374</td>\n",
       "    </tr>\n",
       "    <tr>\n",
       "      <th>conventional_mine</th>\n",
       "      <td>0.002470</td>\n",
       "      <td>0.037506</td>\n",
       "      <td>-0.150021</td>\n",
       "    </tr>\n",
       "    <tr>\n",
       "      <th>blow_down</th>\n",
       "      <td>0.002421</td>\n",
       "      <td>-0.030606</td>\n",
       "      <td>0.122421</td>\n",
       "    </tr>\n",
       "  </tbody>\n",
       "</table>\n",
       "</div>"
      ],
      "text/plain": [
       "                   original distribution  % diff. training  % diff. validation\n",
       "primary                         0.926727         -0.000973            0.003894\n",
       "clear                           0.702364         -0.002227            0.008909\n",
       "agriculture                     0.304232          0.001529           -0.006115\n",
       "road                            0.199387         -0.003680            0.014719\n",
       "water                           0.183083         -0.001478            0.005912\n",
       "partly_cloudy                   0.179377          0.001762           -0.007048\n",
       "cultivation                     0.110601         -0.004070            0.016280\n",
       "habitation                      0.090417         -0.013314            0.053253\n",
       "haze                            0.066627          0.010852           -0.043405\n",
       "cloudy                          0.051607          0.010059           -0.040234\n",
       "bare_ground                     0.021295         -0.011015            0.044058\n",
       "selective_logging               0.008399          0.003683           -0.014730\n",
       "artisinal_mine                  0.008375          0.006643           -0.026573\n",
       "blooming                        0.008202          0.016573           -0.066288\n",
       "slash_burn                      0.005163         -0.031094            0.124374\n",
       "conventional_mine               0.002470          0.037506           -0.150021\n",
       "blow_down                       0.002421         -0.030606            0.122421"
      ]
     },
     "execution_count": 55,
     "metadata": {},
     "output_type": "execute_result"
    }
   ],
   "source": [
    "df_diff"
   ]
  },
  {
   "cell_type": "markdown",
   "metadata": {},
   "source": [
    "move images in the training set to new directories corresponding to the new training and validation sets"
   ]
  },
  {
   "cell_type": "code",
   "execution_count": 87,
   "metadata": {},
   "outputs": [],
   "source": [
    "# get file names\n",
    "training_images = train_set[['image_name']].iloc[:, 0]\n",
    "validation_images = validation_set[['image_name']].iloc[:, 0]"
   ]
  },
  {
   "cell_type": "code",
   "execution_count": 90,
   "metadata": {},
   "outputs": [],
   "source": [
    "# create sub directories\n",
    "original_imgs_dir = os.path.join(DATASETS_PATH, 'train')\n",
    "train_imgs_dir = os.path.join(original_imgs_dir, 'train')\n",
    "validation_imgs_dir = os.path.join(original_imgs_dir, 'validation')\n",
    "\n",
    "if not os.path.exists(train_imgs_dir):\n",
    "    os.makedirs(train_imgs_dir)\n",
    "    \n",
    "if not os.path.exists(validation_imgs_dir):\n",
    "    os.makedirs(validation_imgs_dir)"
   ]
  },
  {
   "cell_type": "code",
   "execution_count": 91,
   "metadata": {},
   "outputs": [],
   "source": [
    "\"\"\"\n",
    "CODE IS NOT NEEDED ANYMORE ONCE THE FILES HAVE BEEN MOVED\n",
    "for img in training_images:\n",
    "    file_name = f'{img}.tif'\n",
    "    old = os.path.join(original_imgs_dir, file_name)\n",
    "    new = os.path.join(train_imgs_dir, file_name)\n",
    "    os.rename(old, new)\n",
    "    \n",
    "for img in validation_images:\n",
    "    file_name = f'{img}.tif'\n",
    "    old = os.path.join(original_imgs_dir, file_name)\n",
    "    new = os.path.join(validation_imgs_dir, file_name)\n",
    "    os.rename(old, new)\n",
    "\"\"\""
   ]
  },
  {
   "cell_type": "markdown",
   "metadata": {},
   "source": [
    "output training and validation labels to csv file"
   ]
  },
  {
   "cell_type": "code",
   "execution_count": 94,
   "metadata": {},
   "outputs": [],
   "source": [
    "train_set.to_csv(os.path.join(DATASETS_PATH, 'train_labels.csv'))\n",
    "validation_set.to_csv(os.path.join(DATASETS_PATH, 'validation_labels.csv'))"
   ]
  }
 ],
 "metadata": {
  "kernelspec": {
   "display_name": "vision",
   "language": "python",
   "name": "vision"
  },
  "language_info": {
   "codemirror_mode": {
    "name": "ipython",
    "version": 3
   },
   "file_extension": ".py",
   "mimetype": "text/x-python",
   "name": "python",
   "nbconvert_exporter": "python",
   "pygments_lexer": "ipython3",
   "version": "3.7.2"
  }
 },
 "nbformat": 4,
 "nbformat_minor": 2
}
