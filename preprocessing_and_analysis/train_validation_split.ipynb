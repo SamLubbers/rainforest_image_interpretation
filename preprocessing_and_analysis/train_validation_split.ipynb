{
 "cells": [
  {
   "cell_type": "markdown",
   "metadata": {},
   "source": [
    "Training data is split into training and validation set so that model can be evaluated without submitting test set predictions on Kaggle and using custom evaluation metrics"
   ]
  },
  {
   "cell_type": "code",
   "execution_count": 1,
   "metadata": {},
   "outputs": [],
   "source": [
    "from sklearn.model_selection import train_test_split\n",
    "import pandas as pd\n",
    "import os"
   ]
  },
  {
   "cell_type": "code",
   "execution_count": 2,
   "metadata": {},
   "outputs": [],
   "source": [
    "import sys\n",
    "sys.path.append(\"../\")\n",
    "from config import DATASETS_PATH"
   ]
  },
  {
   "cell_type": "code",
   "execution_count": 3,
   "metadata": {},
   "outputs": [],
   "source": [
    "csv_labels_path = os.path.join(DATASETS_PATH, 'indicator_labels.csv')\n",
    "df_labels = pd.read_csv(csv_labels_path)"
   ]
  },
  {
   "cell_type": "code",
   "execution_count": 4,
   "metadata": {},
   "outputs": [],
   "source": [
    "train_set, validation_set = train_test_split(df_labels, test_size=0.2, random_state=10)"
   ]
  },
  {
   "cell_type": "code",
   "execution_count": 5,
   "metadata": {},
   "outputs": [],
   "source": [
    "def calculate_distrbution(df):\n",
    "    n_instances = len(df)\n",
    "    label_count = df.iloc[:, 2:].sum()\n",
    "    return label_count / n_instances"
   ]
  },
  {
   "cell_type": "code",
   "execution_count": 6,
   "metadata": {},
   "outputs": [],
   "source": [
    "# test whether the labels are properly distributed\n",
    "original_distribution = calculate_distrbution(df_labels)\n",
    "train_distribution = calculate_distrbution(train_set)\n",
    "validation_distribution = calculate_distrbution(validation_set)"
   ]
  },
  {
   "cell_type": "code",
   "execution_count": 10,
   "metadata": {},
   "outputs": [],
   "source": [
    "df_test = pd.DataFrame({'A':[1, 2], 'B':[2, 4]})"
   ]
  },
  {
   "cell_type": "code",
   "execution_count": 13,
   "metadata": {
    "scrolled": true
   },
   "outputs": [],
   "source": [
    "# %difference in label distribution between original and new training set\n",
    "diff_training = pd.concat([original_distribution,\n",
    "          train_distribution], axis = 1).T.pct_change().iloc[1, :]*100"
   ]
  },
  {
   "cell_type": "code",
   "execution_count": 14,
   "metadata": {},
   "outputs": [],
   "source": [
    "# %difference in label distribution between original training set and validation set\n",
    "diff_validation = pd.concat([original_distribution,\n",
    "          validation_distribution], axis = 1).T.pct_change().iloc[1, :]*100"
   ]
  },
  {
   "cell_type": "code",
   "execution_count": 15,
   "metadata": {},
   "outputs": [],
   "source": [
    "df_diff = pd.concat([original_distribution, diff_training, diff_validation], axis=1)\n",
    "df_diff.columns = ['original distribution', '% diff. training', '% diff. validation']"
   ]
  },
  {
   "cell_type": "code",
   "execution_count": 16,
   "metadata": {},
   "outputs": [
    {
     "data": {
      "text/html": [
       "<div>\n",
       "<style scoped>\n",
       "    .dataframe tbody tr th:only-of-type {\n",
       "        vertical-align: middle;\n",
       "    }\n",
       "\n",
       "    .dataframe tbody tr th {\n",
       "        vertical-align: top;\n",
       "    }\n",
       "\n",
       "    .dataframe thead th {\n",
       "        text-align: right;\n",
       "    }\n",
       "</style>\n",
       "<table border=\"1\" class=\"dataframe\">\n",
       "  <thead>\n",
       "    <tr style=\"text-align: right;\">\n",
       "      <th></th>\n",
       "      <th>original distribution</th>\n",
       "      <th>% diff. training</th>\n",
       "      <th>% diff. validation</th>\n",
       "    </tr>\n",
       "  </thead>\n",
       "  <tbody>\n",
       "    <tr>\n",
       "      <th>primary</th>\n",
       "      <td>0.926727</td>\n",
       "      <td>-0.097349</td>\n",
       "      <td>0.389384</td>\n",
       "    </tr>\n",
       "    <tr>\n",
       "      <th>clear</th>\n",
       "      <td>0.702364</td>\n",
       "      <td>-0.222732</td>\n",
       "      <td>0.890899</td>\n",
       "    </tr>\n",
       "    <tr>\n",
       "      <th>agriculture</th>\n",
       "      <td>0.304232</td>\n",
       "      <td>0.152872</td>\n",
       "      <td>-0.611469</td>\n",
       "    </tr>\n",
       "    <tr>\n",
       "      <th>road</th>\n",
       "      <td>0.199387</td>\n",
       "      <td>-0.367988</td>\n",
       "      <td>1.471908</td>\n",
       "    </tr>\n",
       "    <tr>\n",
       "      <th>water</th>\n",
       "      <td>0.183083</td>\n",
       "      <td>-0.147811</td>\n",
       "      <td>0.591227</td>\n",
       "    </tr>\n",
       "    <tr>\n",
       "      <th>partly_cloudy</th>\n",
       "      <td>0.179377</td>\n",
       "      <td>0.176214</td>\n",
       "      <td>-0.704836</td>\n",
       "    </tr>\n",
       "    <tr>\n",
       "      <th>cultivation</th>\n",
       "      <td>0.110601</td>\n",
       "      <td>-0.407024</td>\n",
       "      <td>1.628046</td>\n",
       "    </tr>\n",
       "    <tr>\n",
       "      <th>habitation</th>\n",
       "      <td>0.090417</td>\n",
       "      <td>-1.331358</td>\n",
       "      <td>5.325267</td>\n",
       "    </tr>\n",
       "    <tr>\n",
       "      <th>haze</th>\n",
       "      <td>0.066627</td>\n",
       "      <td>1.085163</td>\n",
       "      <td>-4.340517</td>\n",
       "    </tr>\n",
       "    <tr>\n",
       "      <th>cloudy</th>\n",
       "      <td>0.051607</td>\n",
       "      <td>1.005889</td>\n",
       "      <td>-4.023434</td>\n",
       "    </tr>\n",
       "    <tr>\n",
       "      <th>bare_ground</th>\n",
       "      <td>0.021295</td>\n",
       "      <td>-1.101477</td>\n",
       "      <td>4.405773</td>\n",
       "    </tr>\n",
       "    <tr>\n",
       "      <th>selective_logging</th>\n",
       "      <td>0.008399</td>\n",
       "      <td>0.368267</td>\n",
       "      <td>-1.473022</td>\n",
       "    </tr>\n",
       "    <tr>\n",
       "      <th>artisinal_mine</th>\n",
       "      <td>0.008375</td>\n",
       "      <td>0.664339</td>\n",
       "      <td>-2.657272</td>\n",
       "    </tr>\n",
       "    <tr>\n",
       "      <th>blooming</th>\n",
       "      <td>0.008202</td>\n",
       "      <td>1.657254</td>\n",
       "      <td>-6.628813</td>\n",
       "    </tr>\n",
       "    <tr>\n",
       "      <th>slash_burn</th>\n",
       "      <td>0.005163</td>\n",
       "      <td>-3.109449</td>\n",
       "      <td>12.437414</td>\n",
       "    </tr>\n",
       "    <tr>\n",
       "      <th>conventional_mine</th>\n",
       "      <td>0.002470</td>\n",
       "      <td>3.750641</td>\n",
       "      <td>-15.002100</td>\n",
       "    </tr>\n",
       "    <tr>\n",
       "      <th>blow_down</th>\n",
       "      <td>0.002421</td>\n",
       "      <td>-3.060626</td>\n",
       "      <td>12.242125</td>\n",
       "    </tr>\n",
       "  </tbody>\n",
       "</table>\n",
       "</div>"
      ],
      "text/plain": [
       "                   original distribution  % diff. training  % diff. validation\n",
       "primary                         0.926727         -0.097349            0.389384\n",
       "clear                           0.702364         -0.222732            0.890899\n",
       "agriculture                     0.304232          0.152872           -0.611469\n",
       "road                            0.199387         -0.367988            1.471908\n",
       "water                           0.183083         -0.147811            0.591227\n",
       "partly_cloudy                   0.179377          0.176214           -0.704836\n",
       "cultivation                     0.110601         -0.407024            1.628046\n",
       "habitation                      0.090417         -1.331358            5.325267\n",
       "haze                            0.066627          1.085163           -4.340517\n",
       "cloudy                          0.051607          1.005889           -4.023434\n",
       "bare_ground                     0.021295         -1.101477            4.405773\n",
       "selective_logging               0.008399          0.368267           -1.473022\n",
       "artisinal_mine                  0.008375          0.664339           -2.657272\n",
       "blooming                        0.008202          1.657254           -6.628813\n",
       "slash_burn                      0.005163         -3.109449           12.437414\n",
       "conventional_mine               0.002470          3.750641          -15.002100\n",
       "blow_down                       0.002421         -3.060626           12.242125"
      ]
     },
     "execution_count": 16,
     "metadata": {},
     "output_type": "execute_result"
    }
   ],
   "source": [
    "df_diff"
   ]
  },
  {
   "cell_type": "markdown",
   "metadata": {},
   "source": [
    "move images in the training set to new directories corresponding to the new training and validation sets"
   ]
  },
  {
   "cell_type": "code",
   "execution_count": 87,
   "metadata": {},
   "outputs": [],
   "source": [
    "# get file names\n",
    "training_images = train_set[['image_name']].iloc[:, 0]\n",
    "validation_images = validation_set[['image_name']].iloc[:, 0]"
   ]
  },
  {
   "cell_type": "code",
   "execution_count": 90,
   "metadata": {},
   "outputs": [],
   "source": [
    "# create sub directories\n",
    "original_imgs_dir = os.path.join(DATASETS_PATH, 'train')\n",
    "train_imgs_dir = os.path.join(original_imgs_dir, 'train')\n",
    "validation_imgs_dir = os.path.join(original_imgs_dir, 'validation')\n",
    "\n",
    "if not os.path.exists(train_imgs_dir):\n",
    "    os.makedirs(train_imgs_dir)\n",
    "    \n",
    "if not os.path.exists(validation_imgs_dir):\n",
    "    os.makedirs(validation_imgs_dir)"
   ]
  },
  {
   "cell_type": "code",
   "execution_count": 91,
   "metadata": {},
   "outputs": [],
   "source": [
    "\"\"\"\n",
    "CODE IS NOT NEEDED ANYMORE ONCE THE FILES HAVE BEEN MOVED\n",
    "for img in training_images:\n",
    "    file_name = f'{img}.tif'\n",
    "    old = os.path.join(original_imgs_dir, file_name)\n",
    "    new = os.path.join(train_imgs_dir, file_name)\n",
    "    os.rename(old, new)\n",
    "    \n",
    "for img in validation_images:\n",
    "    file_name = f'{img}.tif'\n",
    "    old = os.path.join(original_imgs_dir, file_name)\n",
    "    new = os.path.join(validation_imgs_dir, file_name)\n",
    "    os.rename(old, new)\n",
    "\"\"\""
   ]
  },
  {
   "cell_type": "markdown",
   "metadata": {},
   "source": [
    "output training and validation labels to csv file"
   ]
  },
  {
   "cell_type": "code",
   "execution_count": 94,
   "metadata": {},
   "outputs": [],
   "source": [
    "train_set.to_csv(os.path.join(DATASETS_PATH, 'train_labels.csv'))\n",
    "validation_set.to_csv(os.path.join(DATASETS_PATH, 'validation_labels.csv'))"
   ]
  }
 ],
 "metadata": {
  "kernelspec": {
   "display_name": "vision",
   "language": "python",
   "name": "vision"
  },
  "language_info": {
   "codemirror_mode": {
    "name": "ipython",
    "version": 3
   },
   "file_extension": ".py",
   "mimetype": "text/x-python",
   "name": "python",
   "nbconvert_exporter": "python",
   "pygments_lexer": "ipython3",
   "version": "3.7.2"
  }
 },
 "nbformat": 4,
 "nbformat_minor": 2
}
