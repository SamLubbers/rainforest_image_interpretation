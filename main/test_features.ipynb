{
 "cells": [
  {
   "cell_type": "code",
   "execution_count": 2,
   "metadata": {},
   "outputs": [],
   "source": [
    "from feature_extractors import LBPFeatureExtractor"
   ]
  },
  {
   "cell_type": "code",
   "execution_count": 6,
   "metadata": {},
   "outputs": [],
   "source": [
    "from skimage.io import concatenate_images"
   ]
  },
  {
   "cell_type": "code",
   "execution_count": 11,
   "metadata": {},
   "outputs": [],
   "source": [
    "import sys\n",
    "sys.path.append(\"../\")\n",
    "from helpers.img_utils import load_image_collection\n",
    "from config import TRAIN_PATH"
   ]
  },
  {
   "cell_type": "code",
   "execution_count": null,
   "metadata": {},
   "outputs": [],
   "source": [
    "imgs_collection = load_image_collection(TRAIN_PATH)"
   ]
  },
  {
   "cell_type": "code",
   "execution_count": 20,
   "metadata": {},
   "outputs": [],
   "source": [
    "imgs_batch = concatenate_images(imgs_collection[:20])"
   ]
  },
  {
   "cell_type": "code",
   "execution_count": 59,
   "metadata": {},
   "outputs": [],
   "source": [
    "from skimage.feature import greycomatrix, greycoprops"
   ]
  },
  {
   "cell_type": "code",
   "execution_count": 92,
   "metadata": {},
   "outputs": [],
   "source": [
    ">>> image = np.array([[0, 0, 1, 1],\n",
    "...                   [0, 0, 1, 1],\n",
    "...                   [0, 2, 2, 2],\n",
    "...                   [2, 2, 3, 3]], dtype=np.uint8)"
   ]
  },
  {
   "cell_type": "code",
   "execution_count": 113,
   "metadata": {},
   "outputs": [],
   "source": [
    "from helpers.img_utils import load_image, tif_to_grayscale\n",
    "from skimage.io import imshow"
   ]
  },
  {
   "cell_type": "code",
   "execution_count": 111,
   "metadata": {},
   "outputs": [],
   "source": [
    "im = tif_to_grayscale(load_image('train_1.tif'), as_int=True)\n"
   ]
  },
  {
   "cell_type": "code",
   "execution_count": 119,
   "metadata": {},
   "outputs": [],
   "source": [
    "omnidirectional = [0, np.pi/4, np.pi/2, 3*np.pi/4]\n",
    "glcm = greycomatrix(im, [1], omnidirectional, symmetric=True, normed=True)"
   ]
  },
  {
   "cell_type": "code",
   "execution_count": 120,
   "metadata": {},
   "outputs": [],
   "source": [
    "glcm_contrast = np.mean(greycoprops(glcm, 'contrast'))\n",
    "glcm_asm = np.mean(greycoprops(glcm, 'ASM'))\n",
    "glcm_correlation = np.mean(greycoprops(glcm, 'correlation'))"
   ]
  },
  {
   "cell_type": "code",
   "execution_count": 138,
   "metadata": {},
   "outputs": [],
   "source": [
    "features = np.zeros([2, 3])\n",
    "m = [4, 5, 6]\n",
    "for i in range(2):\n",
    "    f = np.zeros(3)\n",
    "    for j, v in enumerate(m):\n",
    "        f[j] = v + i\n",
    "    features[i, :] = f"
   ]
  },
  {
   "cell_type": "code",
   "execution_count": 140,
   "metadata": {},
   "outputs": [
    {
     "data": {
      "text/plain": [
       "(2, 3)"
      ]
     },
     "execution_count": 140,
     "metadata": {},
     "output_type": "execute_result"
    }
   ],
   "source": [
    "np.shape(features)"
   ]
  }
 ],
 "metadata": {
  "kernelspec": {
   "display_name": "vision",
   "language": "python",
   "name": "vision"
  },
  "language_info": {
   "codemirror_mode": {
    "name": "ipython",
    "version": 3
   },
   "file_extension": ".py",
   "mimetype": "text/x-python",
   "name": "python",
   "nbconvert_exporter": "python",
   "pygments_lexer": "ipython3",
   "version": "3.7.2"
  }
 },
 "nbformat": 4,
 "nbformat_minor": 2
}
