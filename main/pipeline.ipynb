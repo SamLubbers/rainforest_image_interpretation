{
 "cells": [
  {
   "cell_type": "markdown",
   "metadata": {},
   "source": [
    "# Feature extraction"
   ]
  },
  {
   "cell_type": "code",
   "execution_count": 108,
   "metadata": {},
   "outputs": [],
   "source": [
    "import numpy as np\n",
    "from sklearn.preprocessing import MinMaxScaler"
   ]
  },
  {
   "cell_type": "code",
   "execution_count": 70,
   "metadata": {},
   "outputs": [],
   "source": [
    "import sys\n",
    "sys.path.append(\"../\")\n",
    "from helpers.utils import load_image, tif_to_rgb"
   ]
  },
  {
   "cell_type": "markdown",
   "metadata": {},
   "source": [
    "## spectral features"
   ]
  },
  {
   "cell_type": "code",
   "execution_count": 117,
   "metadata": {},
   "outputs": [],
   "source": [
    "def extract_spectral_features(im_rgb):\n",
    "    \"\"\"\n",
    "    extracts mean and SD of every color channel in the image (RGB) and the brightness,\n",
    "    where brightness is defined as the mean of all color channels\n",
    "\n",
    "    Parameters\n",
    "    ----------\n",
    "    im_rgb : numpy.ndarray\n",
    "             image with 3 channels (RGB)\n",
    "    \"\"\"\n",
    "    pixels_axis = tuple(range(im_rgb.ndim-1))\n",
    "    mean_r, mean_g, mean_b = np.mean(im_rgb, axis=pixels_axis)\n",
    "    brightness = np.mean([mean_r, mean_g, mean_b])\n",
    "    std_r, std_g, std_b = np.std(im_rgb, axis=pixels_axis)\n",
    "    \n",
    "    return mean_r, mean_g, mean_b, std_r, std_g, std_b, brightness\n",
    "\n",
    "# function to obtain NDVI\n",
    "def extract_ndvi(im_rgb_nir):\n",
    "    \"\"\"\n",
    "    extracts normalized difference vegatation index from multispectral image\n",
    "\n",
    "    Parameters\n",
    "    ----------\n",
    "    im_rgb_nir : numpy.ndarray\n",
    "                 image with 4 channels (RGB + NIR)\n",
    "    \"\"\"\n",
    "    red = im_rgb_nir[0]\n",
    "    nir = im_rgb_nir[3]\n",
    "    ndvi = (nir-red)/(nir+red)\n",
    "    # scale ndvi between -1 and 1\n",
    "    scaler = MinMaxScaler(feature_range=(-1, 1)) \n",
    "    # WARNING: you must fit the scaler only to the training data, and use its transform for both\n",
    "    # replace when you construct the complete pip\n",
    "    ndvi = scaler.fit_transform(ndvi)\n",
    "    \n",
    "    ndvi_mean = np.mean(ndvi)\n",
    "    ndvi_std = np.std(ndvi)\n",
    "    return ndvi_mean, ndvi_std"
   ]
  },
  {
   "cell_type": "code",
   "execution_count": 37,
   "metadata": {},
   "outputs": [],
   "source": [
    "im = load_image('train_1.tif')\n",
    "im_rgb = tif_to_rgb(im)"
   ]
  },
  {
   "cell_type": "code",
   "execution_count": 69,
   "metadata": {
    "scrolled": true
   },
   "outputs": [],
   "source": [
    "mean_r, mean_g, mean_b, std_r, std_g, std_b, brightness = extract_spectral_features(im_rgb)"
   ]
  },
  {
   "cell_type": "code",
   "execution_count": 118,
   "metadata": {},
   "outputs": [
    {
     "data": {
      "text/plain": [
       "(-0.2331667608861459, 0.8217694036536609)"
      ]
     },
     "execution_count": 118,
     "metadata": {},
     "output_type": "execute_result"
    }
   ],
   "source": [
    "extract_ndvi(im)"
   ]
  }
 ],
 "metadata": {
  "kernelspec": {
   "display_name": "vision",
   "language": "python",
   "name": "vision"
  },
  "language_info": {
   "codemirror_mode": {
    "name": "ipython",
    "version": 3
   },
   "file_extension": ".py",
   "mimetype": "text/x-python",
   "name": "python",
   "nbconvert_exporter": "python",
   "pygments_lexer": "ipython3",
   "version": "3.7.2"
  }
 },
 "nbformat": 4,
 "nbformat_minor": 2
}
