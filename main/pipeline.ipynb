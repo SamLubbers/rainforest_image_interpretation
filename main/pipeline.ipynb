{
 "cells": [
  {
   "cell_type": "code",
   "execution_count": null,
   "metadata": {},
   "outputs": [],
   "source": [
    "%load_ext autoreload"
   ]
  },
  {
   "cell_type": "code",
   "execution_count": 4,
   "metadata": {},
   "outputs": [],
   "source": [
    "%autoreload"
   ]
  },
  {
   "cell_type": "code",
   "execution_count": 5,
   "metadata": {},
   "outputs": [],
   "source": [
    "import os\n",
    "import numpy as np\n",
    "import pandas as pd\n",
    "from skimage.io import concatenate_images\n",
    "from sklearn.pipeline import FeatureUnion\n",
    "from sklearn.ensemble import RandomForestClassifier"
   ]
  },
  {
   "cell_type": "code",
   "execution_count": 6,
   "metadata": {},
   "outputs": [],
   "source": [
    "import sys\n",
    "sys.path.append(\"../\")\n",
    "from config import DATASETS_PATH, TRAIN_PATH, VALIDATION_PATH\n",
    "from helpers.utils import extract_label_values, load_image_collection"
   ]
  },
  {
   "cell_type": "markdown",
   "metadata": {},
   "source": [
    "# Load data"
   ]
  },
  {
   "cell_type": "code",
   "execution_count": 7,
   "metadata": {},
   "outputs": [],
   "source": []
  },
  {
   "cell_type": "markdown",
   "metadata": {},
   "source": [
    "# Feature extraction"
   ]
  },
  {
   "cell_type": "markdown",
   "metadata": {},
   "source": [
    "## spectral features"
   ]
  },
  {
   "cell_type": "code",
   "execution_count": 10,
   "metadata": {},
   "outputs": [],
   "source": [
    "feature_extractor = FeatureUnion(transformer_list=[\n",
    "    (\"spectral\", SpectralFeatureExtractor()),\n",
    "    (\"ndvi\", NDVIFeatureExtractor())\n",
    "])"
   ]
  },
  {
   "cell_type": "code",
   "execution_count": null,
   "metadata": {},
   "outputs": [],
   "source": []
  },
  {
   "cell_type": "code",
   "execution_count": 55,
   "metadata": {},
   "outputs": [],
   "source": []
  },
  {
   "cell_type": "markdown",
   "metadata": {},
   "source": [
    "# model"
   ]
  },
  {
   "cell_type": "code",
   "execution_count": null,
   "metadata": {},
   "outputs": [],
   "source": [
    "def complete_pipeline(feature_extractor):\n",
    "    \"\"\"\n",
    "    1. extract features of the training and validation set, using the feature_extractor argument\n",
    "    2. train model on training data\n",
    "    3. make predictions on validation data\n",
    "    4. evaluate performance\n",
    "    \n",
    "    Parameters\n",
    "    ----------\n",
    "    feature_extractor: sklearn transformer\n",
    "                       transformers that extract features from images\n",
    "    \"\"\"\n",
    "    # load data\n",
    "    train_imgs = load_image_collection(TRAIN_PATH)\n",
    "    validation_imgs = load_image_collection(VALIDATION_PATH)\n",
    "    \n",
    "    train_labels = pd.read_csv(os.path.join(DATASETS_PATH, 'train_labels.csv'))\n",
    "    train_labels = extract_label_values(train_labels)\n",
    "    \n",
    "    validation_labels = pd.read_csv(os.path.join(DATASETS_PATH, 'validation_labels.csv'))\n",
    "    validation_labels = extract_label_values(validation_labels)\n",
    "    # extract features\n",
    "    train_features = extract_features(train_imgs, feature_extractor)\n",
    "    validation_features = extract_features(validation_imgs, feature_extractor)\n",
    "\n",
    "    # train model\n",
    "    classifier = RandomForestClassifier(n_estimators=500)\n",
    "    classifier.fit(train_features, train_labels)\n",
    "    \n",
    "    # make predictions\n",
    "    validation_predictions = classifier.predict(validation_features)\n",
    "    \n",
    "    # evaluate performance\n",
    "    mean_f2, per_class_f2 = evaluate_performance(validation_labels, validation_predictions)\n",
    "    \n",
    "    return mean_f2, per_class_f2"
   ]
  },
  {
   "cell_type": "markdown",
   "metadata": {},
   "source": [
    "# evaluation"
   ]
  },
  {
   "cell_type": "code",
   "execution_count": 61,
   "metadata": {},
   "outputs": [],
   "source": [
    "from sklearn.metrics import fbeta_score"
   ]
  },
  {
   "cell_type": "code",
   "execution_count": 92,
   "metadata": {},
   "outputs": [],
   "source": [
    "validation_labels_df = pd.read_csv(os.path.join(DATASETS_PATH, 'validation_labels.csv'))\n",
    "validation_labels = extract_label_values(validation_labels_df)"
   ]
  },
  {
   "cell_type": "code",
   "execution_count": 87,
   "metadata": {},
   "outputs": [],
   "source": [
    "def evaluate_performance(labels, predictions, beta=2):\n",
    "    mean_f2 = fbeta_score(labels, predictions, beta, average='samples')\n",
    "    per_class_f2 = fbeta_score(labels, predictions, beta, average=None)\n",
    "    return mean_f2, per_class_f2"
   ]
  },
  {
   "cell_type": "code",
   "execution_count": 104,
   "metadata": {},
   "outputs": [],
   "source": [
    "# baseline\n",
    "baseline_predictions_df = validation_labels_df.copy()"
   ]
  },
  {
   "cell_type": "code",
   "execution_count": 105,
   "metadata": {},
   "outputs": [],
   "source": [
    "# set all label columns to 0\n",
    "for col in baseline_predictions_df.columns:\n",
    "    if np.issubdtype(baseline_predictions_df[col], np.number):\n",
    "        baseline_predictions_df[col].values[:] = 0\n",
    "# label all instances with most common label\n",
    "baseline_predictions_df['clear'] = 1 # each instance must have one atmospheric condition label\n",
    "baseline_predictions_df['primary'] = 1 # each non-cloudy image must have at least one land use label"
   ]
  },
  {
   "cell_type": "code",
   "execution_count": 108,
   "metadata": {},
   "outputs": [],
   "source": [
    "baseline_predictions = extract_label_values(baseline_predictions_df)"
   ]
  },
  {
   "cell_type": "code",
   "execution_count": 114,
   "metadata": {},
   "outputs": [],
   "source": [
    "mean_f2_baseline, per_class_f2_baseline = evaluate_performance(validation_labels, baseline_predictions)"
   ]
  },
  {
   "cell_type": "code",
   "execution_count": 116,
   "metadata": {},
   "outputs": [
    {
     "name": "stderr",
     "output_type": "stream",
     "text": [
      "/Users/Samu/anaconda/envs/vision/lib/python3.7/site-packages/sklearn/metrics/classification.py:1143: UndefinedMetricWarning: F-score is ill-defined and being set to 0.0 in samples with no predicted labels.\n",
      "  'precision', 'predicted', average, warn_for)\n"
     ]
    }
   ],
   "source": [
    "mean_f2, per_class_f2 = evaluate_performance(validation_labels, validation_predictions)"
   ]
  }
 ],
 "metadata": {
  "kernelspec": {
   "display_name": "vision",
   "language": "python",
   "name": "vision"
  },
  "language_info": {
   "codemirror_mode": {
    "name": "ipython",
    "version": 3
   },
   "file_extension": ".py",
   "mimetype": "text/x-python",
   "name": "python",
   "nbconvert_exporter": "python",
   "pygments_lexer": "ipython3",
   "version": "3.7.2"
  }
 },
 "nbformat": 4,
 "nbformat_minor": 2
}
