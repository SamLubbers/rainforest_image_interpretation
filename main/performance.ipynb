{
 "cells": [
  {
   "cell_type": "code",
   "execution_count": null,
   "metadata": {},
   "outputs": [],
   "source": [
    "%load_ext autoreload"
   ]
  },
  {
   "cell_type": "code",
   "execution_count": null,
   "metadata": {},
   "outputs": [],
   "source": [
    "%autoreload"
   ]
  },
  {
   "cell_type": "code",
   "execution_count": 1,
   "metadata": {},
   "outputs": [],
   "source": [
    "import os\n",
    "import json\n",
    "from pipeline import complete_pipeline\n",
    "from sklearn.pipeline import FeatureUnion, make_pipeline, make_union\n",
    "\n",
    "from feature_extractors import NDVIFeatureExtractor, ChannelsFeatureExtractor\n",
    "from feature_extractors import LBPFeatureExtractor, GLCMFeatureExtractor\n",
    "from feature_extractors import GCHFeatureExtractor\n",
    "from feature_extractors import LocalFeatureExtractor, BoVW"
   ]
  },
  {
   "cell_type": "code",
   "execution_count": 2,
   "metadata": {},
   "outputs": [],
   "source": [
    "import sys\n",
    "sys.path.append(\"../\")\n",
    "from config import RESULTS_PATH"
   ]
  },
  {
   "cell_type": "markdown",
   "metadata": {},
   "source": [
    "# Initialise feature extractors"
   ]
  },
  {
   "cell_type": "code",
   "execution_count": null,
   "metadata": {},
   "outputs": [],
   "source": [
    "# lbp_1 = ('lbp_1', LBPFeatureExtractor(r=1))\n",
    "# lbp_2 = ('lbp_2', LBPFeatureExtractor(r=2))\n",
    "# lbp_3 = ('lbp_3', LBPFeatureExtractor(r=3))\n",
    "\n",
    "# feature_extractors = [\n",
    "#     ('channels_bgr', ChannelsFeatureExtractor(bgr=True)),\n",
    "#     ('channels', ChannelsFeatureExtractor()),\n",
    "#     ('spectral', make_union(\n",
    "#         ChannelsFeatureExtractor(),\n",
    "#         NDVIFeatureExtractor())\n",
    "#     ),\n",
    "#     lbp_1,\n",
    "#     lbp_2,\n",
    "#     lbp_3,\n",
    "#     ('lbp_123', FeatureUnion([\n",
    "#         lbp_1,\n",
    "#         lbp_2,\n",
    "#         lbp_3,\n",
    "#     ]\n",
    "#     )),\n",
    "#     ('gch_rgb', GCHFeatureExtractor(color_space='rgb')),\n",
    "#     ('gch_lab', GCHFeatureExtractor(color_space='lab')),\n",
    "#     ('gch_hsv', GCHFeatureExtractor(color_space='hsv')),\n",
    "#     ('spectral_lbp_1', FeatureUnion([\n",
    "#         ('channels', ChannelsFeatureExtractor()),\n",
    "#         ('ndvi', NDVIFeatureExtractor()),\n",
    "#         lbp_1,\n",
    "#     ]\n",
    "#     )),\n",
    "#     ('spectral_lbp_2', FeatureUnion([\n",
    "#         ('channels', ChannelsFeatureExtractor()),\n",
    "#         ('ndvi', NDVIFeatureExtractor()),\n",
    "#         lbp_2,\n",
    "#     ]\n",
    "#     )),\n",
    "#     ('spectral_lbp_3', FeatureUnion([\n",
    "#         ('channels', ChannelsFeatureExtractor()),\n",
    "#         ('ndvi', NDVIFeatureExtractor()),\n",
    "#         lbp_3,\n",
    "#     ]\n",
    "#     ))\n",
    "# ]"
   ]
  },
  {
   "cell_type": "code",
   "execution_count": 8,
   "metadata": {},
   "outputs": [],
   "source": [
    "feature_extractors = [\n",
    "    ('spectral_glcm_gray', make_union(\n",
    "        ChannelsFeatureExtractor(),\n",
    "        NDVIFeatureExtractor(),\n",
    "        GLCMFeatureExtractor(nir=False))\n",
    "    ),\n",
    "    ('spectral_glcm_nir', make_union(\n",
    "        ChannelsFeatureExtractor(),\n",
    "        NDVIFeatureExtractor(),\n",
    "        GLCMFeatureExtractor(nir=True))\n",
    "    ),\n",
    "]"
   ]
  },
  {
   "cell_type": "markdown",
   "metadata": {},
   "source": [
    "# evaluate performance"
   ]
  },
  {
   "cell_type": "code",
   "execution_count": 9,
   "metadata": {},
   "outputs": [
    {
     "name": "stderr",
     "output_type": "stream",
     "text": [
      "/Users/Samu/anaconda/envs/vision/lib/python3.7/site-packages/sklearn/metrics/classification.py:1143: UndefinedMetricWarning: F-score is ill-defined and being set to 0.0 in samples with no predicted labels.\n",
      "  'precision', 'predicted', average, warn_for)\n",
      "/Users/Samu/anaconda/envs/vision/lib/python3.7/site-packages/sklearn/metrics/classification.py:1143: UndefinedMetricWarning: F-score is ill-defined and being set to 0.0 in labels with no predicted samples.\n",
      "  'precision', 'predicted', average, warn_for)\n",
      "/Users/Samu/anaconda/envs/vision/lib/python3.7/site-packages/sklearn/metrics/classification.py:1143: UndefinedMetricWarning: F-score is ill-defined and being set to 0.0 in samples with no predicted labels.\n",
      "  'precision', 'predicted', average, warn_for)\n",
      "/Users/Samu/anaconda/envs/vision/lib/python3.7/site-packages/sklearn/metrics/classification.py:1143: UndefinedMetricWarning: F-score is ill-defined and being set to 0.0 in labels with no predicted samples.\n",
      "  'precision', 'predicted', average, warn_for)\n"
     ]
    }
   ],
   "source": [
    "performances = {}\n",
    "for feature_name, feature_extractor in feature_extractors:\n",
    "    performance = complete_pipeline(feature_extractor)\n",
    "    performances[feature_name] = performance"
   ]
  },
  {
   "cell_type": "code",
   "execution_count": 10,
   "metadata": {},
   "outputs": [
    {
     "data": {
      "text/plain": [
       "{'spectral_glcm_gray': {'mean_f2': 0.835025805330019,\n",
       "  'per_class_f2': OrderedDict([('primary', 0.9852575300407601),\n",
       "               ('clear', 0.9569138276553107),\n",
       "               ('agriculture', 0.7410018245148449),\n",
       "               ('road', 0.5875145105120598),\n",
       "               ('water', 0.555231710871466),\n",
       "               ('partly_cloudy', 0.7422441287329662),\n",
       "               ('cultivation', 0.1592273557817802),\n",
       "               ('habitation', 0.3939660222612771),\n",
       "               ('haze', 0.5322245322245323),\n",
       "               ('cloudy', 0.7069408740359897),\n",
       "               ('bare_ground', 0.0),\n",
       "               ('selective_logging', 0.0),\n",
       "               ('artisinal_mine', 0.47297297297297297),\n",
       "               ('blooming', 0.0),\n",
       "               ('slash_burn', 0.0),\n",
       "               ('conventional_mine', 0.0),\n",
       "               ('blow_down', 0.0)]),\n",
       "  'time_feature_extraction': 271.21984791755676,\n",
       "  'time_training': 43.03756594657898},\n",
       " 'spectral_glcm_nir': {'mean_f2': 0.8254044995586767,\n",
       "  'per_class_f2': OrderedDict([('primary', 0.9852894486189016),\n",
       "               ('clear', 0.9525041390728477),\n",
       "               ('agriculture', 0.7358053302433372),\n",
       "               ('road', 0.5476006191950465),\n",
       "               ('water', 0.5714493174557073),\n",
       "               ('partly_cloudy', 0.6997956800934034),\n",
       "               ('cultivation', 0.14898065865133298),\n",
       "               ('habitation', 0.22595419847328246),\n",
       "               ('haze', 0.5085809962327333),\n",
       "               ('cloudy', 0.6801661474558671),\n",
       "               ('bare_ground', 0.006896551724137931),\n",
       "               ('selective_logging', 0.0),\n",
       "               ('artisinal_mine', 0.45608108108108114),\n",
       "               ('blooming', 0.0),\n",
       "               ('slash_burn', 0.0),\n",
       "               ('conventional_mine', 0.0),\n",
       "               ('blow_down', 0.0)]),\n",
       "  'time_feature_extraction': 177.7826759815216,\n",
       "  'time_training': 49.353760957717896}}"
      ]
     },
     "execution_count": 10,
     "metadata": {},
     "output_type": "execute_result"
    }
   ],
   "source": [
    "performances"
   ]
  },
  {
   "cell_type": "code",
   "execution_count": 11,
   "metadata": {},
   "outputs": [],
   "source": [
    "for feature_name, performance in performances.items():\n",
    "    file_path = os.path.join(RESULTS_PATH, 'parallel', f'{feature_name}.json')\n",
    "    with open(file_path, 'w') as f:\n",
    "        json.dump(performance, f, indent=4)"
   ]
  }
 ],
 "metadata": {
  "kernelspec": {
   "display_name": "vision",
   "language": "python",
   "name": "vision"
  },
  "language_info": {
   "codemirror_mode": {
    "name": "ipython",
    "version": 3
   },
   "file_extension": ".py",
   "mimetype": "text/x-python",
   "name": "python",
   "nbconvert_exporter": "python",
   "pygments_lexer": "ipython3",
   "version": "3.7.2"
  }
 },
 "nbformat": 4,
 "nbformat_minor": 2
}
