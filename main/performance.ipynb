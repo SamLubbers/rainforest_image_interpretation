{
 "cells": [
  {
   "cell_type": "code",
   "execution_count": null,
   "metadata": {},
   "outputs": [],
   "source": [
    "%load_ext autoreload"
   ]
  },
  {
   "cell_type": "code",
   "execution_count": null,
   "metadata": {},
   "outputs": [],
   "source": [
    "%autoreload"
   ]
  },
  {
   "cell_type": "code",
   "execution_count": 1,
   "metadata": {},
   "outputs": [],
   "source": [
    "import os\n",
    "import json\n",
    "from collections import defaultdict\n",
    "from pprint import pprint\n",
    "from feature_extractors import NDVIFeatureExtractor, ColorChannelsFeatureExtractor, LBPFeatureExtractor\n",
    "from pipeline import complete_pipeline\n",
    "from sklearn.pipeline import FeatureUnion"
   ]
  },
  {
   "cell_type": "code",
   "execution_count": 2,
   "metadata": {},
   "outputs": [],
   "source": [
    "import sys\n",
    "sys.path.append(\"../\")\n",
    "from config import RESULTS_PATH"
   ]
  },
  {
   "cell_type": "markdown",
   "metadata": {},
   "source": [
    "# Initialise feature extractors"
   ]
  },
  {
   "cell_type": "code",
   "execution_count": 12,
   "metadata": {},
   "outputs": [],
   "source": [
    "feature_extractors = [\n",
    "    ('spectral', FeatureUnion([\n",
    "        (\"channels\", ColorChannelsFeatureExtractor()),\n",
    "        (\"ndvi\", NDVIFeatureExtractor())\n",
    "    ]))\n",
    "]"
   ]
  },
  {
   "cell_type": "code",
   "execution_count": 13,
   "metadata": {},
   "outputs": [],
   "source": [
    "textural_features = [\n",
    "    ('lbp_1_8', LBPFeatureExtractor(r=1)),\n",
    "    ('lbp_2_16', LBPFeatureExtractor(r=2)),\n",
    "    ('lbp_3_24', LBPFeatureExtractor(r=3))\n",
    "]\n",
    "feature_extractors.extend(textural_features)\n",
    "feature_extractors.append(('lbp_multiscale', FeatureUnion(textural_features)))"
   ]
  },
  {
   "cell_type": "code",
   "execution_count": 14,
   "metadata": {},
   "outputs": [
    {
     "data": {
      "text/plain": [
       "[('spectral', FeatureUnion(n_jobs=None,\n",
       "         transformer_list=[('channels', <feature_extractors.ColorChannelsFeatureExtractor object at 0x1293134a8>), ('ndvi', <feature_extractors.NDVIFeatureExtractor object at 0x129313518>)],\n",
       "         transformer_weights=None)),\n",
       " ('lbp_1_8', <feature_extractors.LBPFeatureExtractor at 0x129dbb470>),\n",
       " ('lbp_2_16', <feature_extractors.LBPFeatureExtractor at 0x129dbb4e0>),\n",
       " ('lbp_3_24', <feature_extractors.LBPFeatureExtractor at 0x129dbb550>),\n",
       " ('lbp_multiscale', FeatureUnion(n_jobs=None,\n",
       "         transformer_list=[('lbp_1_8', <feature_extractors.LBPFeatureExtractor object at 0x129dbb470>), ('lbp_2_16', <feature_extractors.LBPFeatureExtractor object at 0x129dbb4e0>), ('lbp_3_24', <feature_extractors.LBPFeatureExtractor object at 0x129dbb550>)],\n",
       "         transformer_weights=None))]"
      ]
     },
     "execution_count": 14,
     "metadata": {},
     "output_type": "execute_result"
    }
   ],
   "source": [
    "feature_extractors"
   ]
  },
  {
   "cell_type": "markdown",
   "metadata": {},
   "source": [
    "# evaluate performance"
   ]
  },
  {
   "cell_type": "code",
   "execution_count": 15,
   "metadata": {},
   "outputs": [
    {
     "name": "stderr",
     "output_type": "stream",
     "text": [
      "/Users/Samu/anaconda/envs/vision/lib/python3.7/site-packages/sklearn/metrics/classification.py:1143: UndefinedMetricWarning: F-score is ill-defined and being set to 0.0 in samples with no predicted labels.\n",
      "  'precision', 'predicted', average, warn_for)\n",
      "/Users/Samu/anaconda/envs/vision/lib/python3.7/site-packages/sklearn/metrics/classification.py:1143: UndefinedMetricWarning: F-score is ill-defined and being set to 0.0 in labels with no predicted samples.\n",
      "  'precision', 'predicted', average, warn_for)\n",
      "/Users/Samu/anaconda/envs/vision/lib/python3.7/site-packages/sklearn/metrics/classification.py:1143: UndefinedMetricWarning: F-score is ill-defined and being set to 0.0 in samples with no predicted labels.\n",
      "  'precision', 'predicted', average, warn_for)\n",
      "/Users/Samu/anaconda/envs/vision/lib/python3.7/site-packages/sklearn/metrics/classification.py:1143: UndefinedMetricWarning: F-score is ill-defined and being set to 0.0 in labels with no predicted samples.\n",
      "  'precision', 'predicted', average, warn_for)\n",
      "/Users/Samu/anaconda/envs/vision/lib/python3.7/site-packages/sklearn/metrics/classification.py:1143: UndefinedMetricWarning: F-score is ill-defined and being set to 0.0 in samples with no predicted labels.\n",
      "  'precision', 'predicted', average, warn_for)\n",
      "/Users/Samu/anaconda/envs/vision/lib/python3.7/site-packages/sklearn/metrics/classification.py:1143: UndefinedMetricWarning: F-score is ill-defined and being set to 0.0 in labels with no predicted samples.\n",
      "  'precision', 'predicted', average, warn_for)\n",
      "/Users/Samu/anaconda/envs/vision/lib/python3.7/site-packages/sklearn/metrics/classification.py:1143: UndefinedMetricWarning: F-score is ill-defined and being set to 0.0 in samples with no predicted labels.\n",
      "  'precision', 'predicted', average, warn_for)\n",
      "/Users/Samu/anaconda/envs/vision/lib/python3.7/site-packages/sklearn/metrics/classification.py:1143: UndefinedMetricWarning: F-score is ill-defined and being set to 0.0 in labels with no predicted samples.\n",
      "  'precision', 'predicted', average, warn_for)\n",
      "/Users/Samu/anaconda/envs/vision/lib/python3.7/site-packages/sklearn/metrics/classification.py:1143: UndefinedMetricWarning: F-score is ill-defined and being set to 0.0 in samples with no predicted labels.\n",
      "  'precision', 'predicted', average, warn_for)\n",
      "/Users/Samu/anaconda/envs/vision/lib/python3.7/site-packages/sklearn/metrics/classification.py:1143: UndefinedMetricWarning: F-score is ill-defined and being set to 0.0 in labels with no predicted samples.\n",
      "  'precision', 'predicted', average, warn_for)\n"
     ]
    }
   ],
   "source": [
    "performances = defaultdict(dict)\n",
    "for feature_name, feature_extractor in feature_extractors:\n",
    "    performance = complete_pipeline(feature_extractor)\n",
    "    performances[feature_name] = performance"
   ]
  },
  {
   "cell_type": "code",
   "execution_count": 5,
   "metadata": {},
   "outputs": [
    {
     "data": {
      "text/plain": [
       "defaultdict(dict,\n",
       "            {'ndvi': {'mean_f2': 0.7074426461162135,\n",
       "              'per_class_f2': OrderedDict([('primary', 0.977069321612032),\n",
       "                           ('clear', 0.8457932733431416),\n",
       "                           ('agriculture', 0.49740629183400276),\n",
       "                           ('road', 0.27055702917771884),\n",
       "                           ('water', 0.47584921886197507),\n",
       "                           ('partly_cloudy', 0.1408783252006926),\n",
       "                           ('cultivation', 0.07210919392222509),\n",
       "                           ('habitation', 0.06301875192130342),\n",
       "                           ('haze', 0.36451748841129367),\n",
       "                           ('cloudy', 0.5005268703898841),\n",
       "                           ('bare_ground', 0.01360544217687075),\n",
       "                           ('selective_logging', 0.0),\n",
       "                           ('artisinal_mine', 0.0),\n",
       "                           ('blooming', 0.0),\n",
       "                           ('slash_burn', 0.0),\n",
       "                           ('conventional_mine', 0.0),\n",
       "                           ('blow_down', 0.0)]),\n",
       "              'time_feature_extraction': 0.37656000000000134,\n",
       "              'time_training': 154.855878}})"
      ]
     },
     "execution_count": 5,
     "metadata": {},
     "output_type": "execute_result"
    }
   ],
   "source": [
    "performances"
   ]
  },
  {
   "cell_type": "code",
   "execution_count": 6,
   "metadata": {},
   "outputs": [],
   "source": [
    "for feature_name, performance in performances.items():\n",
    "    file_path = os.path.join(RESULTS_PATH, f'{feature_name}.json')\n",
    "    with open(file_path, 'w') as f:\n",
    "        json.dump(performance, f, indent=4)"
   ]
  }
 ],
 "metadata": {
  "kernelspec": {
   "display_name": "vision",
   "language": "python",
   "name": "vision"
  },
  "language_info": {
   "codemirror_mode": {
    "name": "ipython",
    "version": 3
   },
   "file_extension": ".py",
   "mimetype": "text/x-python",
   "name": "python",
   "nbconvert_exporter": "python",
   "pygments_lexer": "ipython3",
   "version": "3.7.2"
  }
 },
 "nbformat": 4,
 "nbformat_minor": 2
}
