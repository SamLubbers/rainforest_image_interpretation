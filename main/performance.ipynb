{
 "cells": [
  {
   "cell_type": "code",
   "execution_count": null,
   "metadata": {},
   "outputs": [],
   "source": [
    "%load_ext autoreload"
   ]
  },
  {
   "cell_type": "code",
   "execution_count": null,
   "metadata": {},
   "outputs": [],
   "source": [
    "%autoreload"
   ]
  },
  {
   "cell_type": "code",
   "execution_count": 1,
   "metadata": {},
   "outputs": [],
   "source": [
    "import os\n",
    "import json\n",
    "from pipeline import complete_pipeline\n",
    "from sklearn.pipeline import FeatureUnion, make_pipeline, make_union\n",
    "\n",
    "from feature_extractors import NDVIFeatureExtractor, ChannelsFeatureExtractor\n",
    "from feature_extractors import LBPFeatureExtractor, GLCMFeatureExtractor\n",
    "from feature_extractors import GCHFeatureExtractor\n",
    "from feature_extractors import LocalFeatureExtractor, BoVW"
   ]
  },
  {
   "cell_type": "code",
   "execution_count": 2,
   "metadata": {},
   "outputs": [],
   "source": [
    "import sys\n",
    "sys.path.append(\"../\")\n",
    "from config import RESULTS_PATH"
   ]
  },
  {
   "cell_type": "markdown",
   "metadata": {},
   "source": [
    "# Initialise feature extractors"
   ]
  },
  {
   "cell_type": "code",
   "execution_count": 3,
   "metadata": {},
   "outputs": [],
   "source": [
    "feature_extractors = [\n",
    "    ('freak_25_bovw_25', make_pipeline(\n",
    "        LocalFeatureExtractor(descriptor='freak', threshold=25),\n",
    "        BoVW(n_clusters=25)\n",
    "    ))\n",
    "#     ,\n",
    "#     ('freak_25_bovw_10', make_pipeline(\n",
    "#         LocalFeatureExtractor(descriptor='freak', threshold=25),\n",
    "#         BoVW(n_clusters=10)\n",
    "#     ))\n",
    "#     ,\n",
    "#     ('freak_25_bovw_250', make_pipeline(\n",
    "#         LocalFeatureExtractor(descriptor='freak', threshold=25),\n",
    "#         BoVW(n_clusters=250)\n",
    "#     )),\n",
    "#     ('freak_25_bovw_500', make_pipeline(\n",
    "#         LocalFeatureExtractor(descriptor='freak', threshold=25),\n",
    "#         BoVW(n_clusters=500)\n",
    "#     )),\n",
    "#     ('freak_25_bovw_500', make_pipeline(\n",
    "#         LocalFeatureExtractor(descriptor='freak', threshold=25),\n",
    "#         BoVW(n_clusters=1000)\n",
    "#     ))\n",
    "]"
   ]
  },
  {
   "cell_type": "markdown",
   "metadata": {},
   "source": [
    "# evaluate performance"
   ]
  },
  {
   "cell_type": "code",
   "execution_count": null,
   "metadata": {},
   "outputs": [],
   "source": [
    "performances = {}\n",
    "for feature_name, feature_extractor in feature_extractors:\n",
    "    performance = complete_pipeline(feature_extractor)\n",
    "    performances[feature_name] = performance"
   ]
  },
  {
   "cell_type": "code",
   "execution_count": null,
   "metadata": {},
   "outputs": [],
   "source": [
    "performances"
   ]
  },
  {
   "cell_type": "code",
   "execution_count": null,
   "metadata": {},
   "outputs": [],
   "source": [
    "for feature_name, performance in performances.items():\n",
    "    file_path = os.path.join(RESULTS_PATH, f'{feature_name}.json')\n",
    "    with open(file_path, 'w') as f:\n",
    "        json.dump(performance, f, indent=4)"
   ]
  }
 ],
 "metadata": {
  "kernelspec": {
   "display_name": "vision",
   "language": "python",
   "name": "vision"
  },
  "language_info": {
   "codemirror_mode": {
    "name": "ipython",
    "version": 3
   },
   "file_extension": ".py",
   "mimetype": "text/x-python",
   "name": "python",
   "nbconvert_exporter": "python",
   "pygments_lexer": "ipython3",
   "version": "3.7.2"
  }
 },
 "nbformat": 4,
 "nbformat_minor": 2
}
