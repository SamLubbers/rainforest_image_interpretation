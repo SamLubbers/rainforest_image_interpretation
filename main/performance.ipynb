{
 "cells": [
  {
   "cell_type": "code",
   "execution_count": null,
   "metadata": {},
   "outputs": [],
   "source": [
    "%load_ext autoreload"
   ]
  },
  {
   "cell_type": "code",
   "execution_count": null,
   "metadata": {},
   "outputs": [],
   "source": [
    "%autoreload"
   ]
  },
  {
   "cell_type": "code",
   "execution_count": 1,
   "metadata": {},
   "outputs": [],
   "source": [
    "import os\n",
    "import json\n",
    "from collections import defaultdict\n",
    "from pprint import pprint\n",
    "from feature_extractors import NDVIFeatureExtractor, ColorChannelsFeatureExtractor, GLCMFeatureExtractor\n",
    "from pipeline import complete_pipeline\n",
    "from sklearn.pipeline import FeatureUnion"
   ]
  },
  {
   "cell_type": "code",
   "execution_count": 2,
   "metadata": {},
   "outputs": [],
   "source": [
    "import sys\n",
    "sys.path.append(\"../\")\n",
    "from config import RESULTS_PATH"
   ]
  },
  {
   "cell_type": "markdown",
   "metadata": {},
   "source": [
    "# Initialise feature extractors"
   ]
  },
  {
   "cell_type": "code",
   "execution_count": null,
   "metadata": {},
   "outputs": [],
   "source": [
    "# feature_extractors = [\n",
    "#     ('spectral_lbp_3', FeatureUnion([\n",
    "#         (\"channels\", ColorChannelsFeatureExtractor()),\n",
    "#         (\"ndvi\", NDVIFeatureExtractor())\n",
    "#     ]))\n",
    "# ]"
   ]
  },
  {
   "cell_type": "code",
   "execution_count": 3,
   "metadata": {},
   "outputs": [],
   "source": [
    "feature_extractors = [\n",
    "    ('glcm', GLCMFeatureExtractor())\n",
    "]"
   ]
  },
  {
   "cell_type": "markdown",
   "metadata": {},
   "source": [
    "# evaluate performance"
   ]
  },
  {
   "cell_type": "code",
   "execution_count": 4,
   "metadata": {},
   "outputs": [
    {
     "name": "stderr",
     "output_type": "stream",
     "text": [
      "/Users/Samu/anaconda/envs/vision/lib/python3.7/site-packages/sklearn/metrics/classification.py:1143: UndefinedMetricWarning: F-score is ill-defined and being set to 0.0 in samples with no predicted labels.\n",
      "  'precision', 'predicted', average, warn_for)\n",
      "/Users/Samu/anaconda/envs/vision/lib/python3.7/site-packages/sklearn/metrics/classification.py:1143: UndefinedMetricWarning: F-score is ill-defined and being set to 0.0 in labels with no predicted samples.\n",
      "  'precision', 'predicted', average, warn_for)\n"
     ]
    }
   ],
   "source": [
    "performances = defaultdict(dict)\n",
    "for feature_name, feature_extractor in feature_extractors:\n",
    "    performance = complete_pipeline(feature_extractor)\n",
    "    performances[feature_name] = performance"
   ]
  },
  {
   "cell_type": "code",
   "execution_count": 5,
   "metadata": {},
   "outputs": [
    {
     "data": {
      "text/plain": [
       "defaultdict(dict,\n",
       "            {'glcm': {'mean_f2': 0.7434245056638368,\n",
       "              'per_class_f2': OrderedDict([('primary', 0.9773594840068449),\n",
       "                           ('clear', 0.9043786659391624),\n",
       "                           ('agriculture', 0.6346328195829556),\n",
       "                           ('road', 0.4236739974126779),\n",
       "                           ('water', 0.3041307308216069),\n",
       "                           ('partly_cloudy', 0.6101299080426216),\n",
       "                           ('cultivation', 0.053361792956243326),\n",
       "                           ('habitation', 0.2098214285714286),\n",
       "                           ('haze', 0.00477326968973747),\n",
       "                           ('cloudy', 0.2484472049689441),\n",
       "                           ('bare_ground', 0.0),\n",
       "                           ('selective_logging', 0.0),\n",
       "                           ('artisinal_mine', 0.03663003663003663),\n",
       "                           ('blooming', 0.0),\n",
       "                           ('slash_burn', 0.0),\n",
       "                           ('conventional_mine', 0.0),\n",
       "                           ('blow_down', 0.0)]),\n",
       "              'time_feature_extraction': 796.6132490634918,\n",
       "              'time_training': 80.03906607627869}})"
      ]
     },
     "execution_count": 5,
     "metadata": {},
     "output_type": "execute_result"
    }
   ],
   "source": [
    "performances"
   ]
  },
  {
   "cell_type": "code",
   "execution_count": 6,
   "metadata": {},
   "outputs": [],
   "source": [
    "for feature_name, performance in performances.items():\n",
    "    file_path = os.path.join(RESULTS_PATH, f'{feature_name}.json')\n",
    "    with open(file_path, 'w') as f:\n",
    "        json.dump(performance, f, indent=4)"
   ]
  }
 ],
 "metadata": {
  "kernelspec": {
   "display_name": "vision",
   "language": "python",
   "name": "vision"
  },
  "language_info": {
   "codemirror_mode": {
    "name": "ipython",
    "version": 3
   },
   "file_extension": ".py",
   "mimetype": "text/x-python",
   "name": "python",
   "nbconvert_exporter": "python",
   "pygments_lexer": "ipython3",
   "version": "3.7.2"
  }
 },
 "nbformat": 4,
 "nbformat_minor": 2
}
