{
 "cells": [
  {
   "cell_type": "code",
   "execution_count": 1,
   "metadata": {},
   "outputs": [],
   "source": [
    "%load_ext autoreload"
   ]
  },
  {
   "cell_type": "code",
   "execution_count": 2,
   "metadata": {},
   "outputs": [],
   "source": [
    "%autoreload"
   ]
  },
  {
   "cell_type": "code",
   "execution_count": 3,
   "metadata": {},
   "outputs": [],
   "source": [
    "import os\n",
    "import json\n",
    "from pipeline import complete_pipeline\n",
    "from sklearn.pipeline import FeatureUnion\n",
    "\n",
    "from feature_extractors import NDVIFeatureExtractor, ColorChannelsFeatureExtractor\n",
    "from feature_extractors import LBPFeatureExtractor, GLCMFeatureExtractor\n",
    "from feature_extractors import GCHFeatureExtractor"
   ]
  },
  {
   "cell_type": "code",
   "execution_count": 4,
   "metadata": {},
   "outputs": [],
   "source": [
    "import sys\n",
    "sys.path.append(\"../\")\n",
    "from config import RESULTS_PATH"
   ]
  },
  {
   "cell_type": "markdown",
   "metadata": {},
   "source": [
    "# Initialise feature extractors"
   ]
  },
  {
   "cell_type": "code",
   "execution_count": 12,
   "metadata": {},
   "outputs": [],
   "source": [
    "feature_extractors = [\n",
    "    ('spectral_glcm_all', FeatureUnion([\n",
    "        ('channels', ColorChannelsFeatureExtractor()),\n",
    "        ('ndvi', NDVIFeatureExtractor()),\n",
    "        ('glcm_all', GLCMFeatureExtractor(mode='all'))\n",
    "    ]))\n",
    "]"
   ]
  },
  {
   "cell_type": "code",
   "execution_count": 13,
   "metadata": {},
   "outputs": [
    {
     "data": {
      "text/plain": [
       "[('spectral_glcm_all', FeatureUnion(n_jobs=None,\n",
       "         transformer_list=[('channels', <feature_extractors.ColorChannelsFeatureExtractor object at 0x12ea75630>), ('ndvi', <feature_extractors.NDVIFeatureExtractor object at 0x12ea751d0>), ('glcm_all', <feature_extractors.GLCMFeatureExtractor object at 0x12ea754a8>)],\n",
       "         transformer_weights=None))]"
      ]
     },
     "execution_count": 13,
     "metadata": {},
     "output_type": "execute_result"
    }
   ],
   "source": [
    "feature_extractors"
   ]
  },
  {
   "cell_type": "markdown",
   "metadata": {},
   "source": [
    "# evaluate performance"
   ]
  },
  {
   "cell_type": "code",
   "execution_count": 14,
   "metadata": {},
   "outputs": [
    {
     "name": "stderr",
     "output_type": "stream",
     "text": [
      "/Users/Samu/anaconda/envs/vision/lib/python3.7/site-packages/sklearn/metrics/classification.py:1143: UndefinedMetricWarning: F-score is ill-defined and being set to 0.0 in samples with no predicted labels.\n",
      "  'precision', 'predicted', average, warn_for)\n",
      "/Users/Samu/anaconda/envs/vision/lib/python3.7/site-packages/sklearn/metrics/classification.py:1143: UndefinedMetricWarning: F-score is ill-defined and being set to 0.0 in labels with no predicted samples.\n",
      "  'precision', 'predicted', average, warn_for)\n"
     ]
    },
    {
     "name": "stdout",
     "output_type": "stream",
     "text": [
      "[0.04590303 0.04316123 0.05490012 0.07593562 0.05548444 0.08788921\n",
      " 0.04388603 0.07692315 0.10320305 0.06331204 0.05618627 0.06584061\n",
      " 0.0429799  0.10732451 0.04040707 0.03666372]\n"
     ]
    }
   ],
   "source": [
    "performances = {}\n",
    "for feature_name, feature_extractor in feature_extractors:\n",
    "    performance = complete_pipeline(feature_extractor)\n",
    "    performances[feature_name] = performance"
   ]
  },
  {
   "cell_type": "code",
   "execution_count": 15,
   "metadata": {},
   "outputs": [
    {
     "data": {
      "text/plain": [
       "{'spectral_glcm_all': {'mean_f2': 0.8331971026996766,\n",
       "  'per_class_f2': OrderedDict([('primary', 0.984411391065001),\n",
       "               ('clear', 0.9567229648050288),\n",
       "               ('agriculture', 0.7401724995853375),\n",
       "               ('road', 0.5913561076604555),\n",
       "               ('water', 0.5559593023255814),\n",
       "               ('partly_cloudy', 0.7440174039158811),\n",
       "               ('cultivation', 0.15191199580932427),\n",
       "               ('habitation', 0.43258101851851855),\n",
       "               ('haze', 0.504606365159129),\n",
       "               ('cloudy', 0.6862745098039216),\n",
       "               ('bare_ground', 0.006934812760055479),\n",
       "               ('selective_logging', 0.0),\n",
       "               ('artisinal_mine', 0.48657718120805366),\n",
       "               ('blooming', 0.0),\n",
       "               ('slash_burn', 0.0),\n",
       "               ('conventional_mine', 0.0),\n",
       "               ('blow_down', 0.0)]),\n",
       "  'time_feature_extraction': 1153.3603389263153,\n",
       "  'time_training': 215.76070308685303}}"
      ]
     },
     "execution_count": 15,
     "metadata": {},
     "output_type": "execute_result"
    }
   ],
   "source": [
    "performances"
   ]
  },
  {
   "cell_type": "code",
   "execution_count": 16,
   "metadata": {},
   "outputs": [],
   "source": [
    "for feature_name, performance in performances.items():\n",
    "    file_path = os.path.join(RESULTS_PATH, f'{feature_name}.json')\n",
    "    with open(file_path, 'w') as f:\n",
    "        json.dump(performance, f, indent=4)"
   ]
  }
 ],
 "metadata": {
  "kernelspec": {
   "display_name": "vision",
   "language": "python",
   "name": "vision"
  },
  "language_info": {
   "codemirror_mode": {
    "name": "ipython",
    "version": 3
   },
   "file_extension": ".py",
   "mimetype": "text/x-python",
   "name": "python",
   "nbconvert_exporter": "python",
   "pygments_lexer": "ipython3",
   "version": "3.7.2"
  }
 },
 "nbformat": 4,
 "nbformat_minor": 2
}
