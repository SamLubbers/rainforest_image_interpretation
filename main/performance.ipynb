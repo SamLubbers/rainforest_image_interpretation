{
 "cells": [
  {
   "cell_type": "code",
   "execution_count": null,
   "metadata": {},
   "outputs": [],
   "source": [
    "%load_ext autoreload"
   ]
  },
  {
   "cell_type": "code",
   "execution_count": null,
   "metadata": {},
   "outputs": [],
   "source": [
    "%autoreload"
   ]
  },
  {
   "cell_type": "code",
   "execution_count": 1,
   "metadata": {},
   "outputs": [],
   "source": [
    "import os\n",
    "import json\n",
    "from collections import defaultdict\n",
    "from pprint import pprint\n",
    "from feature_extractors import NDVIFeatureExtractor, ColorChannelsFeatureExtractor, LBPFeatureExtractor\n",
    "from pipeline import complete_pipeline\n",
    "from sklearn.pipeline import FeatureUnion"
   ]
  },
  {
   "cell_type": "code",
   "execution_count": 2,
   "metadata": {},
   "outputs": [],
   "source": [
    "import sys\n",
    "sys.path.append(\"../\")\n",
    "from config import RESULTS_PATH"
   ]
  },
  {
   "cell_type": "markdown",
   "metadata": {},
   "source": [
    "# Initialise feature extractors"
   ]
  },
  {
   "cell_type": "code",
   "execution_count": 25,
   "metadata": {},
   "outputs": [],
   "source": [
    "feature_extractors = [\n",
    "    ('spectral', FeatureUnion([\n",
    "        (\"channels\", ColorChannelsFeatureExtractor()),\n",
    "        (\"ndvi\", NDVIFeatureExtractor())\n",
    "    ]))\n",
    "]"
   ]
  },
  {
   "cell_type": "code",
   "execution_count": 26,
   "metadata": {},
   "outputs": [],
   "source": [
    "textural_features = [\n",
    "    ('lbp_1_8', LBPFeatureExtractor(r=1)),\n",
    "    ('lbp_2_16', LBPFeatureExtractor(r=2)),\n",
    "    ('lbp_3_24', LBPFeatureExtractor(r=3))\n",
    "]\n",
    "feature_extractors.extend(textural_features)\n",
    "lbp_multiscale = FeatureUnion(textural_features)\n",
    "feature_extractors.append(('lbp_multiscale', lbp_multiscale))"
   ]
  },
  {
   "cell_type": "code",
   "execution_count": 28,
   "metadata": {},
   "outputs": [
    {
     "data": {
      "text/plain": [
       "[('spectral', FeatureUnion(n_jobs=None,\n",
       "         transformer_list=[('channels', <feature_extractors.ColorChannelsFeatureExtractor object at 0x129e45be0>), ('ndvi', <feature_extractors.NDVIFeatureExtractor object at 0x129e45cf8>)],\n",
       "         transformer_weights=None)),\n",
       " ('lbp_1_8', <feature_extractors.LBPFeatureExtractor at 0x129e455c0>),\n",
       " ('lbp_2_16', <feature_extractors.LBPFeatureExtractor at 0x129e45e10>),\n",
       " ('lbp_3_24', <feature_extractors.LBPFeatureExtractor at 0x129e459b0>),\n",
       " ('lbp_multiscale', FeatureUnion(n_jobs=None,\n",
       "         transformer_list=[('lbp_1_8', <feature_extractors.LBPFeatureExtractor object at 0x129e455c0>), ('lbp_2_16', <feature_extractors.LBPFeatureExtractor object at 0x129e45e10>), ('lbp_3_24', <feature_extractors.LBPFeatureExtractor object at 0x129e459b0>)],\n",
       "         transformer_weights=None))]"
      ]
     },
     "execution_count": 28,
     "metadata": {},
     "output_type": "execute_result"
    }
   ],
   "source": [
    "feature_extractors"
   ]
  },
  {
   "cell_type": "markdown",
   "metadata": {},
   "source": [
    "# evaluate performance"
   ]
  },
  {
   "cell_type": "code",
   "execution_count": 15,
   "metadata": {},
   "outputs": [
    {
     "name": "stderr",
     "output_type": "stream",
     "text": [
      "/Users/Samu/anaconda/envs/vision/lib/python3.7/site-packages/sklearn/metrics/classification.py:1143: UndefinedMetricWarning: F-score is ill-defined and being set to 0.0 in samples with no predicted labels.\n",
      "  'precision', 'predicted', average, warn_for)\n",
      "/Users/Samu/anaconda/envs/vision/lib/python3.7/site-packages/sklearn/metrics/classification.py:1143: UndefinedMetricWarning: F-score is ill-defined and being set to 0.0 in labels with no predicted samples.\n",
      "  'precision', 'predicted', average, warn_for)\n",
      "/Users/Samu/anaconda/envs/vision/lib/python3.7/site-packages/sklearn/metrics/classification.py:1143: UndefinedMetricWarning: F-score is ill-defined and being set to 0.0 in samples with no predicted labels.\n",
      "  'precision', 'predicted', average, warn_for)\n",
      "/Users/Samu/anaconda/envs/vision/lib/python3.7/site-packages/sklearn/metrics/classification.py:1143: UndefinedMetricWarning: F-score is ill-defined and being set to 0.0 in labels with no predicted samples.\n",
      "  'precision', 'predicted', average, warn_for)\n",
      "/Users/Samu/anaconda/envs/vision/lib/python3.7/site-packages/sklearn/metrics/classification.py:1143: UndefinedMetricWarning: F-score is ill-defined and being set to 0.0 in samples with no predicted labels.\n",
      "  'precision', 'predicted', average, warn_for)\n",
      "/Users/Samu/anaconda/envs/vision/lib/python3.7/site-packages/sklearn/metrics/classification.py:1143: UndefinedMetricWarning: F-score is ill-defined and being set to 0.0 in labels with no predicted samples.\n",
      "  'precision', 'predicted', average, warn_for)\n",
      "/Users/Samu/anaconda/envs/vision/lib/python3.7/site-packages/sklearn/metrics/classification.py:1143: UndefinedMetricWarning: F-score is ill-defined and being set to 0.0 in samples with no predicted labels.\n",
      "  'precision', 'predicted', average, warn_for)\n",
      "/Users/Samu/anaconda/envs/vision/lib/python3.7/site-packages/sklearn/metrics/classification.py:1143: UndefinedMetricWarning: F-score is ill-defined and being set to 0.0 in labels with no predicted samples.\n",
      "  'precision', 'predicted', average, warn_for)\n",
      "/Users/Samu/anaconda/envs/vision/lib/python3.7/site-packages/sklearn/metrics/classification.py:1143: UndefinedMetricWarning: F-score is ill-defined and being set to 0.0 in samples with no predicted labels.\n",
      "  'precision', 'predicted', average, warn_for)\n",
      "/Users/Samu/anaconda/envs/vision/lib/python3.7/site-packages/sklearn/metrics/classification.py:1143: UndefinedMetricWarning: F-score is ill-defined and being set to 0.0 in labels with no predicted samples.\n",
      "  'precision', 'predicted', average, warn_for)\n"
     ]
    }
   ],
   "source": [
    "performances = defaultdict(dict)\n",
    "for feature_name, feature_extractor in feature_extractors:\n",
    "    performance = complete_pipeline(feature_extractor)\n",
    "    performances[feature_name] = performance"
   ]
  },
  {
   "cell_type": "code",
   "execution_count": 16,
   "metadata": {},
   "outputs": [
    {
     "data": {
      "text/plain": [
       "defaultdict(dict,\n",
       "            {'spectral': {'mean_f2': 0.8248273151264485,\n",
       "              'per_class_f2': OrderedDict([('primary', 0.9828969315083),\n",
       "                           ('clear', 0.9511554803274725),\n",
       "                           ('agriculture', 0.7320910973084885),\n",
       "                           ('road', 0.5596966970826373),\n",
       "                           ('water', 0.5560388574742642),\n",
       "                           ('partly_cloudy', 0.7164589973920603),\n",
       "                           ('cultivation', 0.17339544513457558),\n",
       "                           ('habitation', 0.21659548505186094),\n",
       "                           ('haze', 0.5135699373695198),\n",
       "                           ('cloudy', 0.6744186046511629),\n",
       "                           ('bare_ground', 0.01375515818431912),\n",
       "                           ('selective_logging', 0.0),\n",
       "                           ('artisinal_mine', 0.39115646258503406),\n",
       "                           ('blooming', 0.0),\n",
       "                           ('slash_burn', 0.0),\n",
       "                           ('conventional_mine', 0.0),\n",
       "                           ('blow_down', 0.0)]),\n",
       "              'time_feature_extraction': 0.5780579999999986,\n",
       "              'time_training': 345.05929399999997},\n",
       "             'lbp_1_8': {'mean_f2': 0.758857308359758,\n",
       "              'per_class_f2': OrderedDict([('primary', 0.9831646272167455),\n",
       "                           ('clear', 0.898628626559162),\n",
       "                           ('agriculture', 0.5981697171381032),\n",
       "                           ('road', 0.43174560936668444),\n",
       "                           ('water', 0.3019213174748399),\n",
       "                           ('partly_cloudy', 0.49970211498361633),\n",
       "                           ('cultivation', 0.0013691128148959474),\n",
       "                           ('habitation', 0.2050570459451126),\n",
       "                           ('haze', 0.39551607445008446),\n",
       "                           ('cloudy', 0.585609243697479),\n",
       "                           ('bare_ground', 0.0),\n",
       "                           ('selective_logging', 0.0),\n",
       "                           ('artisinal_mine', 0.3125),\n",
       "                           ('blooming', 0.0),\n",
       "                           ('slash_burn', 0.0),\n",
       "                           ('conventional_mine', 0.0),\n",
       "                           ('blow_down', 0.0)]),\n",
       "              'time_feature_extraction': 0.9035660000000689,\n",
       "              'time_training': 273.87742000000003},\n",
       "             'lbp_2_16': {'mean_f2': 0.7680737931139539,\n",
       "              'per_class_f2': OrderedDict([('primary', 0.9829760236855324),\n",
       "                           ('clear', 0.9187309418576763),\n",
       "                           ('agriculture', 0.6132792701469844),\n",
       "                           ('road', 0.4332930270052398),\n",
       "                           ('water', 0.3405454822489715),\n",
       "                           ('partly_cloudy', 0.5195783132530121),\n",
       "                           ('cultivation', 0.0),\n",
       "                           ('habitation', 0.18432465923172245),\n",
       "                           ('haze', 0.3125),\n",
       "                           ('cloudy', 0.6347554630593132),\n",
       "                           ('bare_ground', 0.0),\n",
       "                           ('selective_logging', 0.0),\n",
       "                           ('artisinal_mine', 0.265017667844523),\n",
       "                           ('blooming', 0.0),\n",
       "                           ('slash_burn', 0.0),\n",
       "                           ('conventional_mine', 0.0),\n",
       "                           ('blow_down', 0.0)]),\n",
       "              'time_feature_extraction': 1.1045799999999417,\n",
       "              'time_training': 325.760948},\n",
       "             'lbp_3_24': {'mean_f2': 0.7821296539645057,\n",
       "              'per_class_f2': OrderedDict([('primary', 0.9847663378381953),\n",
       "                           ('clear', 0.9300773495790265),\n",
       "                           ('agriculture', 0.6412200876306033),\n",
       "                           ('road', 0.4772032433869467),\n",
       "                           ('water', 0.4146742378959952),\n",
       "                           ('partly_cloudy', 0.5414398064125833),\n",
       "                           ('cultivation', 0.0),\n",
       "                           ('habitation', 0.1791277258566978),\n",
       "                           ('haze', 0.3320227173438183),\n",
       "                           ('cloudy', 0.6740702479338843),\n",
       "                           ('bare_ground', 0.0),\n",
       "                           ('selective_logging', 0.0),\n",
       "                           ('artisinal_mine', 0.21582733812949642),\n",
       "                           ('blooming', 0.0),\n",
       "                           ('slash_burn', 0.0),\n",
       "                           ('conventional_mine', 0.0),\n",
       "                           ('blow_down', 0.0)]),\n",
       "              'time_feature_extraction': 1.2538179999999102,\n",
       "              'time_training': 374.8537140000001},\n",
       "             'lbp_multiscale': {'mean_f2': 0.7951298247200794,\n",
       "              'per_class_f2': OrderedDict([('primary', 0.9845217621378488),\n",
       "                           ('clear', 0.9297968164472101),\n",
       "                           ('agriculture', 0.6642004371952246),\n",
       "                           ('road', 0.5013872374157748),\n",
       "                           ('water', 0.4194128220491312),\n",
       "                           ('partly_cloudy', 0.5891956070050459),\n",
       "                           ('cultivation', 0.004114097641250686),\n",
       "                           ('habitation', 0.2425259304453935),\n",
       "                           ('haze', 0.42250530785562634),\n",
       "                           ('cloudy', 0.7215967246673491),\n",
       "                           ('bare_ground', 0.0),\n",
       "                           ('selective_logging', 0.0),\n",
       "                           ('artisinal_mine', 0.3310104529616725),\n",
       "                           ('blooming', 0.0),\n",
       "                           ('slash_burn', 0.0),\n",
       "                           ('conventional_mine', 0.0),\n",
       "                           ('blow_down', 0.0)]),\n",
       "              'time_feature_extraction': 2.764966000000186,\n",
       "              'time_training': 549.7068379999998}})"
      ]
     },
     "execution_count": 16,
     "metadata": {},
     "output_type": "execute_result"
    }
   ],
   "source": [
    "performances"
   ]
  },
  {
   "cell_type": "code",
   "execution_count": 17,
   "metadata": {},
   "outputs": [],
   "source": [
    "for feature_name, performance in performances.items():\n",
    "    file_path = os.path.join(RESULTS_PATH, f'{feature_name}.json')\n",
    "    with open(file_path, 'w') as f:\n",
    "        json.dump(performance, f, indent=4)"
   ]
  },
  {
   "cell_type": "code",
   "execution_count": 29,
   "metadata": {},
   "outputs": [],
   "source": [
    "from pipeline import extract_features\n",
    "from helpers.img_utils import load_image_collection\n",
    "from config import TRAIN_PATH\n",
    "from time import time"
   ]
  },
  {
   "cell_type": "code",
   "execution_count": 22,
   "metadata": {},
   "outputs": [],
   "source": [
    "imgs_collection = load_image_collection(TRAIN_PATH)"
   ]
  },
  {
   "cell_type": "code",
   "execution_count": 30,
   "metadata": {},
   "outputs": [],
   "source": [
    "time_dict = {}\n",
    "for feature_name, feature_extractor in feature_extractors:\n",
    "    start = time()\n",
    "    extract_features(imgs_collection, feature_extractor)\n",
    "    end = time()\n",
    "    time_dict[feature_name] = (end - start)"
   ]
  },
  {
   "cell_type": "code",
   "execution_count": 31,
   "metadata": {},
   "outputs": [
    {
     "data": {
      "text/plain": [
       "{'spectral': 366.9623210430145,\n",
       " 'lbp_1_8': 771.7961959838867,\n",
       " 'lbp_2_16': 930.7690010070801,\n",
       " 'lbp_3_24': 1121.5438289642334,\n",
       " 'lbp_multiscale': 2650.3443608283997}"
      ]
     },
     "execution_count": 31,
     "metadata": {},
     "output_type": "execute_result"
    }
   ],
   "source": [
    "time_dict"
   ]
  }
 ],
 "metadata": {
  "kernelspec": {
   "display_name": "vision",
   "language": "python",
   "name": "vision"
  },
  "language_info": {
   "codemirror_mode": {
    "name": "ipython",
    "version": 3
   },
   "file_extension": ".py",
   "mimetype": "text/x-python",
   "name": "python",
   "nbconvert_exporter": "python",
   "pygments_lexer": "ipython3",
   "version": "3.7.2"
  }
 },
 "nbformat": 4,
 "nbformat_minor": 2
}
