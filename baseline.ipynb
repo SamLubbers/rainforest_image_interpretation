{
 "cells": [
  {
   "cell_type": "code",
   "execution_count": null,
   "metadata": {},
   "outputs": [],
   "source": [
    "import os\n",
    "import numpy as np\n",
    "import pandas as pd"
   ]
  },
  {
   "cell_type": "code",
   "execution_count": null,
   "metadata": {},
   "outputs": [],
   "source": [
    "from config import DATASETS_PATH\n",
    "from helpers.data import extract_label_values\n",
    "from helpers.evaluation import evaluate_performance_validation"
   ]
  },
  {
   "cell_type": "code",
   "execution_count": null,
   "metadata": {},
   "outputs": [],
   "source": [
    "baseline_predictions_df = pd.read_csv(os.path.join(DATASETS_PATH, 'validation_labels.csv'))"
   ]
  },
  {
   "cell_type": "code",
   "execution_count": null,
   "metadata": {},
   "outputs": [],
   "source": [
    "# set all label columns to 0\n",
    "for col in baseline_predictions_df.columns:\n",
    "    if np.issubdtype(baseline_predictions_df[col], np.number):\n",
    "        baseline_predictions_df[col].values[:] = 0\n",
    "# label all instances with most common label\n",
    "baseline_predictions_df['clear'] = 1 # each instance must have one atmospheric condition label\n",
    "baseline_predictions_df['primary'] = 1 # each non-cloudy image must have at least one land use label"
   ]
  },
  {
   "cell_type": "code",
   "execution_count": null,
   "metadata": {},
   "outputs": [],
   "source": [
    "baseline_predictions = extract_label_values(baseline_predictions_df)"
   ]
  },
  {
   "cell_type": "code",
   "execution_count": null,
   "metadata": {},
   "outputs": [],
   "source": [
    "mean_f2_baseline, per_class_f2_baseline = evaluate_performance_validation(baseline_predictions)"
   ]
  }
 ],
 "metadata": {
  "kernelspec": {
   "display_name": "vision",
   "language": "python",
   "name": "vision"
  },
  "language_info": {
   "codemirror_mode": {
    "name": "ipython",
    "version": 3
   },
   "file_extension": ".py",
   "mimetype": "text/x-python",
   "name": "python",
   "nbconvert_exporter": "python",
   "pygments_lexer": "ipython3",
   "version": "3.7.2"
  }
 },
 "nbformat": 4,
 "nbformat_minor": 2
}
